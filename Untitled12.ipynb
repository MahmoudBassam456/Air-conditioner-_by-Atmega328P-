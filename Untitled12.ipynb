{
  "cells": [
    {
      "cell_type": "markdown",
      "metadata": {
        "id": "view-in-github",
        "colab_type": "text"
      },
      "source": [
        "<a href=\"https://colab.research.google.com/github/MahmoudBassam456/Air-conditioner-_by-Atmega328P-/blob/main/Untitled12.ipynb\" target=\"_parent\"><img src=\"https://colab.research.google.com/assets/colab-badge.svg\" alt=\"Open In Colab\"/></a>"
      ]
    },
    {
      "cell_type": "code",
      "execution_count": 1,
      "metadata": {
        "id": "8LaftC8Gx8KJ"
      },
      "outputs": [],
      "source": [
        "import numpy as np\n",
        "import pandas as pd\n",
        "import tensorflow as tf"
      ]
    },
    {
      "cell_type": "code",
      "execution_count": 2,
      "metadata": {
        "id": "oEcBgXNGyG1I"
      },
      "outputs": [],
      "source": [
        "data_set=pd.read_csv('/content/data_fridge_v5.csv')\n",
        "x=data_set.iloc[:,:-3].values\n",
        "y=data_set.iloc[:,-1].values.reshape(-1,1)\n",
        "x_1=data_set.iloc[:,[0,5]].values\n",
        "y_1=data_set.iloc[:,-2].values.reshape(-1,1)"
      ]
    },
    {
      "cell_type": "code",
      "execution_count": 2,
      "metadata": {
        "id": "tcNgcP0rvhiP"
      },
      "outputs": [],
      "source": []
    },
    {
      "cell_type": "code",
      "execution_count": 3,
      "metadata": {
        "colab": {
          "base_uri": "https://localhost:8080/"
        },
        "id": "3Ku4WHlDzJWk",
        "outputId": "bab1f118-1a8f-41a4-fe0e-9ed67ccc1198"
      },
      "outputs": [
        {
          "output_type": "stream",
          "name": "stdout",
          "text": [
            "[[ 1.  30.  29.  30.  29.5]\n",
            " [ 2.  29.  28.  29.5 29. ]\n",
            " [ 3.  28.  27.  29.  28.5]\n",
            " ...\n",
            " [ 8.  35.  30.  18.  21. ]\n",
            " [ 9.  40.  30.  21.  24. ]\n",
            " [10.  45.  30.  24.  27. ]]\n"
          ]
        }
      ],
      "source": [
        "print(x)\n"
      ]
    },
    {
      "cell_type": "markdown",
      "metadata": {
        "id": "YwABa1Gwn9VQ"
      },
      "source": [
        "Model_1"
      ]
    },
    {
      "cell_type": "code",
      "execution_count": 4,
      "metadata": {
        "id": "YVPjIAQmzLly"
      },
      "outputs": [],
      "source": [
        "from sklearn.compose import ColumnTransformer\n",
        "from sklearn.preprocessing import OneHotEncoder\n",
        "ct=ColumnTransformer(transformers=[('encoder',OneHotEncoder(sparse_output=False),[0])],remainder='passthrough')\n",
        "y=ct.fit_transform(y)"
      ]
    },
    {
      "cell_type": "markdown",
      "metadata": {
        "id": "Xq9mcq-cn_1m"
      },
      "source": [
        "Model_2"
      ]
    },
    {
      "cell_type": "code",
      "execution_count": 5,
      "metadata": {
        "id": "sQ8N-jNUoBZx"
      },
      "outputs": [],
      "source": [
        "from sklearn.compose import ColumnTransformer\n",
        "from sklearn.preprocessing import OneHotEncoder\n",
        "ct1=ColumnTransformer(transformers=[('encoder1',OneHotEncoder(sparse_output=False),[0])],remainder='passthrough')\n",
        "y_1=ct1.fit_transform(y_1)"
      ]
    },
    {
      "cell_type": "code",
      "execution_count": 6,
      "metadata": {
        "colab": {
          "base_uri": "https://localhost:8080/"
        },
        "id": "6IoqXBUE5Oxr",
        "outputId": "eb296225-6aa6-4602-d977-628fbe6e0a7f"
      },
      "outputs": [
        {
          "output_type": "stream",
          "name": "stdout",
          "text": [
            "[[0. 1.]\n",
            " [0. 1.]\n",
            " [0. 1.]\n",
            " [0. 1.]\n",
            " [0. 1.]\n",
            " [0. 1.]\n",
            " [0. 1.]\n",
            " [0. 1.]\n",
            " [0. 1.]\n",
            " [0. 1.]\n",
            " [0. 1.]\n",
            " [0. 1.]\n",
            " [0. 1.]\n",
            " [0. 1.]\n",
            " [0. 1.]\n",
            " [0. 1.]\n",
            " [0. 1.]\n",
            " [0. 1.]\n",
            " [0. 1.]\n",
            " [0. 1.]\n",
            " [0. 1.]\n",
            " [0. 1.]\n",
            " [0. 1.]\n",
            " [0. 1.]\n",
            " [0. 1.]\n",
            " [0. 1.]\n",
            " [0. 1.]\n",
            " [0. 1.]\n",
            " [0. 1.]\n",
            " [0. 1.]\n",
            " [1. 0.]\n",
            " [1. 0.]\n",
            " [1. 0.]\n",
            " [1. 0.]\n",
            " [1. 0.]\n",
            " [1. 0.]\n",
            " [1. 0.]\n",
            " [1. 0.]\n",
            " [1. 0.]\n",
            " [1. 0.]\n",
            " [1. 0.]\n",
            " [1. 0.]\n",
            " [1. 0.]\n",
            " [1. 0.]\n",
            " [1. 0.]\n",
            " [1. 0.]\n",
            " [1. 0.]\n",
            " [1. 0.]\n",
            " [1. 0.]\n",
            " [1. 0.]\n",
            " [1. 0.]\n",
            " [1. 0.]\n",
            " [1. 0.]\n",
            " [1. 0.]\n",
            " [1. 0.]\n",
            " [1. 0.]\n",
            " [1. 0.]\n",
            " [1. 0.]\n",
            " [1. 0.]\n",
            " [1. 0.]\n",
            " [1. 0.]\n",
            " [1. 0.]\n",
            " [1. 0.]\n",
            " [1. 0.]\n",
            " [1. 0.]\n",
            " [1. 0.]\n",
            " [1. 0.]\n",
            " [1. 0.]\n",
            " [1. 0.]\n",
            " [1. 0.]\n",
            " [1. 0.]\n",
            " [1. 0.]\n",
            " [1. 0.]\n",
            " [1. 0.]\n",
            " [1. 0.]\n",
            " [1. 0.]\n",
            " [1. 0.]\n",
            " [1. 0.]\n",
            " [1. 0.]\n",
            " [1. 0.]\n",
            " [1. 0.]\n",
            " [1. 0.]\n",
            " [1. 0.]\n",
            " [1. 0.]\n",
            " [1. 0.]\n",
            " [1. 0.]\n",
            " [1. 0.]\n",
            " [1. 0.]\n",
            " [1. 0.]\n",
            " [1. 0.]\n",
            " [1. 0.]\n",
            " [1. 0.]\n",
            " [1. 0.]\n",
            " [1. 0.]\n",
            " [1. 0.]\n",
            " [1. 0.]\n",
            " [1. 0.]\n",
            " [1. 0.]\n",
            " [1. 0.]\n",
            " [1. 0.]\n",
            " [1. 0.]\n",
            " [1. 0.]\n",
            " [1. 0.]\n",
            " [1. 0.]\n",
            " [1. 0.]\n",
            " [1. 0.]\n",
            " [1. 0.]\n",
            " [1. 0.]\n",
            " [1. 0.]\n",
            " [1. 0.]\n",
            " [1. 0.]\n",
            " [1. 0.]\n",
            " [1. 0.]\n",
            " [1. 0.]\n",
            " [1. 0.]\n",
            " [1. 0.]\n",
            " [1. 0.]\n",
            " [1. 0.]\n",
            " [1. 0.]\n",
            " [1. 0.]\n",
            " [1. 0.]\n",
            " [0. 1.]\n",
            " [0. 1.]\n",
            " [0. 1.]\n",
            " [0. 1.]\n",
            " [0. 1.]\n",
            " [0. 1.]\n",
            " [0. 1.]\n",
            " [0. 1.]\n",
            " [0. 1.]\n",
            " [0. 1.]\n",
            " [0. 1.]\n",
            " [0. 1.]\n",
            " [0. 1.]\n",
            " [0. 1.]\n",
            " [0. 1.]\n",
            " [0. 1.]\n",
            " [0. 1.]\n",
            " [0. 1.]\n",
            " [0. 1.]\n",
            " [0. 1.]\n",
            " [0. 1.]\n",
            " [0. 1.]\n",
            " [0. 1.]\n",
            " [0. 1.]\n",
            " [0. 1.]\n",
            " [0. 1.]\n",
            " [0. 1.]\n",
            " [0. 1.]\n",
            " [0. 1.]\n",
            " [0. 1.]\n",
            " [0. 1.]\n",
            " [0. 1.]\n",
            " [0. 1.]\n",
            " [0. 1.]\n",
            " [0. 1.]\n",
            " [0. 1.]\n",
            " [0. 1.]\n",
            " [0. 1.]\n",
            " [0. 1.]\n",
            " [0. 1.]\n",
            " [0. 1.]\n",
            " [0. 1.]\n",
            " [0. 1.]\n",
            " [0. 1.]\n",
            " [0. 1.]\n",
            " [0. 1.]\n",
            " [0. 1.]\n",
            " [0. 1.]\n",
            " [0. 1.]\n",
            " [0. 1.]\n",
            " [0. 1.]\n",
            " [0. 1.]\n",
            " [0. 1.]\n",
            " [0. 1.]\n",
            " [0. 1.]\n",
            " [0. 1.]\n",
            " [0. 1.]\n",
            " [0. 1.]\n",
            " [0. 1.]\n",
            " [0. 1.]\n",
            " [0. 1.]\n",
            " [0. 1.]\n",
            " [0. 1.]\n",
            " [0. 1.]\n",
            " [0. 1.]\n",
            " [0. 1.]\n",
            " [0. 1.]\n",
            " [0. 1.]\n",
            " [0. 1.]\n",
            " [0. 1.]\n",
            " [0. 1.]\n",
            " [0. 1.]\n",
            " [0. 1.]\n",
            " [0. 1.]\n",
            " [0. 1.]\n",
            " [0. 1.]\n",
            " [0. 1.]\n",
            " [0. 1.]\n",
            " [0. 1.]\n",
            " [0. 1.]\n",
            " [0. 1.]\n",
            " [0. 1.]\n",
            " [0. 1.]\n",
            " [0. 1.]\n",
            " [0. 1.]\n",
            " [0. 1.]\n",
            " [0. 1.]\n",
            " [0. 1.]\n",
            " [0. 1.]\n",
            " [0. 1.]\n",
            " [0. 1.]\n",
            " [1. 0.]\n",
            " [1. 0.]\n",
            " [1. 0.]\n",
            " [1. 0.]\n",
            " [1. 0.]\n",
            " [1. 0.]\n",
            " [1. 0.]\n",
            " [1. 0.]\n",
            " [1. 0.]\n",
            " [1. 0.]\n",
            " [1. 0.]\n",
            " [1. 0.]\n",
            " [1. 0.]\n",
            " [1. 0.]\n",
            " [1. 0.]\n",
            " [1. 0.]\n",
            " [1. 0.]\n",
            " [1. 0.]\n",
            " [1. 0.]\n",
            " [1. 0.]\n",
            " [1. 0.]\n",
            " [1. 0.]\n",
            " [1. 0.]\n",
            " [1. 0.]\n",
            " [1. 0.]\n",
            " [1. 0.]\n",
            " [1. 0.]\n",
            " [1. 0.]\n",
            " [1. 0.]\n",
            " [0. 1.]\n",
            " [1. 0.]\n",
            " [1. 0.]\n",
            " [1. 0.]\n",
            " [1. 0.]\n",
            " [1. 0.]\n",
            " [1. 0.]\n",
            " [1. 0.]\n",
            " [1. 0.]\n",
            " [1. 0.]\n",
            " [0. 1.]\n",
            " [1. 0.]\n",
            " [1. 0.]\n",
            " [1. 0.]\n",
            " [1. 0.]\n",
            " [1. 0.]\n",
            " [1. 0.]\n",
            " [1. 0.]\n",
            " [1. 0.]\n",
            " [1. 0.]\n",
            " [0. 1.]\n",
            " [1. 0.]\n",
            " [1. 0.]\n",
            " [1. 0.]\n",
            " [1. 0.]\n",
            " [1. 0.]\n",
            " [1. 0.]\n",
            " [1. 0.]\n",
            " [1. 0.]\n",
            " [1. 0.]\n",
            " [0. 1.]\n",
            " [1. 0.]\n",
            " [1. 0.]\n",
            " [1. 0.]\n",
            " [1. 0.]\n",
            " [1. 0.]\n",
            " [1. 0.]\n",
            " [1. 0.]\n",
            " [1. 0.]\n",
            " [1. 0.]\n",
            " [0. 1.]\n",
            " [1. 0.]\n",
            " [1. 0.]\n",
            " [1. 0.]\n",
            " [1. 0.]\n",
            " [1. 0.]\n",
            " [1. 0.]\n",
            " [1. 0.]\n",
            " [1. 0.]\n",
            " [1. 0.]\n",
            " [0. 1.]\n",
            " [1. 0.]\n",
            " [1. 0.]\n",
            " [1. 0.]\n",
            " [1. 0.]\n",
            " [1. 0.]\n",
            " [1. 0.]\n",
            " [1. 0.]\n",
            " [1. 0.]\n",
            " [1. 0.]\n",
            " [0. 1.]\n",
            " [1. 0.]\n",
            " [1. 0.]\n",
            " [1. 0.]\n",
            " [1. 0.]\n",
            " [1. 0.]\n",
            " [1. 0.]\n",
            " [1. 0.]\n",
            " [1. 0.]\n",
            " [1. 0.]\n",
            " [0. 1.]\n",
            " [1. 0.]\n",
            " [1. 0.]\n",
            " [1. 0.]\n",
            " [1. 0.]\n",
            " [1. 0.]\n",
            " [1. 0.]\n",
            " [1. 0.]\n",
            " [1. 0.]\n",
            " [1. 0.]\n",
            " [0. 1.]\n",
            " [1. 0.]\n",
            " [1. 0.]\n",
            " [1. 0.]\n",
            " [1. 0.]\n",
            " [1. 0.]\n",
            " [1. 0.]\n",
            " [1. 0.]\n",
            " [1. 0.]\n",
            " [1. 0.]\n",
            " [0. 1.]\n",
            " [1. 0.]\n",
            " [1. 0.]\n",
            " [1. 0.]\n",
            " [1. 0.]\n",
            " [1. 0.]\n",
            " [1. 0.]\n",
            " [1. 0.]\n",
            " [1. 0.]\n",
            " [1. 0.]\n",
            " [0. 1.]\n",
            " [1. 0.]\n",
            " [1. 0.]\n",
            " [1. 0.]\n",
            " [1. 0.]\n",
            " [1. 0.]\n",
            " [1. 0.]\n",
            " [1. 0.]\n",
            " [1. 0.]\n",
            " [1. 0.]\n",
            " [0. 1.]\n",
            " [1. 0.]\n",
            " [1. 0.]\n",
            " [1. 0.]\n",
            " [1. 0.]\n",
            " [1. 0.]\n",
            " [1. 0.]\n",
            " [1. 0.]\n",
            " [1. 0.]\n",
            " [1. 0.]]\n"
          ]
        }
      ],
      "source": [
        "print(y)"
      ]
    },
    {
      "cell_type": "markdown",
      "metadata": {
        "id": "jj4x_R0OoRlV"
      },
      "source": [
        "Model_1"
      ]
    },
    {
      "cell_type": "code",
      "execution_count": 7,
      "metadata": {
        "id": "T0JrQcj000xN"
      },
      "outputs": [],
      "source": [
        "from sklearn.model_selection import train_test_split\n",
        "x_train,x_test,y_train,y_test=train_test_split(x,y,test_size=0.2,random_state=42)"
      ]
    },
    {
      "cell_type": "markdown",
      "metadata": {
        "id": "03X6c-q2oTky"
      },
      "source": [
        "Model_2"
      ]
    },
    {
      "cell_type": "code",
      "execution_count": 8,
      "metadata": {
        "id": "408fGa_EoVcn"
      },
      "outputs": [],
      "source": [
        "from sklearn.model_selection import train_test_split\n",
        "x_train1,x_test1,y_train1,y_test1=train_test_split(x_1,y_1,test_size=0.2,random_state=42)"
      ]
    },
    {
      "cell_type": "markdown",
      "metadata": {
        "id": "dVWrOyUbofsV"
      },
      "source": [
        "Model_1"
      ]
    },
    {
      "cell_type": "code",
      "execution_count": 9,
      "metadata": {
        "id": "w8Pi_TA67z51"
      },
      "outputs": [],
      "source": [
        "from sklearn.preprocessing import StandardScaler\n",
        "sc=StandardScaler()\n",
        "x_train=sc.fit_transform(x_train)\n",
        "x_test=sc.transform(x_test)"
      ]
    },
    {
      "cell_type": "markdown",
      "metadata": {
        "id": "mi16FjYxohQO"
      },
      "source": [
        "Model_2"
      ]
    },
    {
      "cell_type": "code",
      "execution_count": 10,
      "metadata": {
        "id": "dZni9TVaoi9H"
      },
      "outputs": [],
      "source": [
        "from sklearn.preprocessing import StandardScaler\n",
        "sc1=StandardScaler()\n",
        "x_train1=sc1.fit_transform(x_train1)\n",
        "x_test1=sc1.transform(x_test1)"
      ]
    },
    {
      "cell_type": "markdown",
      "metadata": {
        "id": "DY-sPnCGouL2"
      },
      "source": [
        "Build_model_1"
      ]
    },
    {
      "cell_type": "code",
      "execution_count": 11,
      "metadata": {
        "id": "6BSuMm8W8Mcn"
      },
      "outputs": [],
      "source": [
        "ann=tf.keras.models.Sequential()\n",
        "ann.add(tf.keras.layers.Dense(units=128,activation='relu'))"
      ]
    },
    {
      "cell_type": "code",
      "execution_count": 12,
      "metadata": {
        "id": "ZclBhFUW9JEQ"
      },
      "outputs": [],
      "source": [
        "ann.add(tf.keras.layers.Dense(units=64,activation='relu'))"
      ]
    },
    {
      "cell_type": "code",
      "execution_count": 13,
      "metadata": {
        "id": "86c6AnOd9PMO"
      },
      "outputs": [],
      "source": [
        "ann.add(tf.keras.layers.Dense(units=32,activation='relu'))"
      ]
    },
    {
      "cell_type": "code",
      "execution_count": 14,
      "metadata": {
        "id": "GjiBd9hu9Y_Q"
      },
      "outputs": [],
      "source": [
        "ann.add(tf.keras.layers.Dense(units=2,activation='softmax'))"
      ]
    },
    {
      "cell_type": "code",
      "execution_count": 15,
      "metadata": {
        "id": "glai1fNm-E2c"
      },
      "outputs": [],
      "source": [
        "from tensorflow.keras.optimizers.schedules import ExponentialDecay\n",
        "from tensorflow.keras.optimizers import Adam # Import Adam optimizer\n",
        "\n",
        "lr_schedule = ExponentialDecay(initial_learning_rate=0.01, decay_steps=100, decay_rate=0.9)\n",
        "ann.compile(optimizer=Adam(learning_rate=lr_schedule),\n",
        "            loss='categorical_crossentropy',\n",
        "            metrics=['accuracy'])"
      ]
    },
    {
      "cell_type": "code",
      "execution_count": 16,
      "metadata": {
        "colab": {
          "base_uri": "https://localhost:8080/"
        },
        "id": "ruoln4Q8-_Fe",
        "outputId": "faa514f3-e5c6-4b6e-f1e4-9b9a5539834b"
      },
      "outputs": [
        {
          "output_type": "execute_result",
          "data": {
            "text/plain": [
              "2"
            ]
          },
          "metadata": {},
          "execution_count": 16
        }
      ],
      "source": [
        "len(x_train.shape)"
      ]
    },
    {
      "cell_type": "code",
      "source": [],
      "metadata": {
        "id": "s4r_Ib3B8tIt"
      },
      "execution_count": 16,
      "outputs": []
    },
    {
      "cell_type": "code",
      "source": [],
      "metadata": {
        "id": "NeMNeS_R8tvL"
      },
      "execution_count": 16,
      "outputs": []
    },
    {
      "cell_type": "code",
      "execution_count": 17,
      "metadata": {
        "colab": {
          "base_uri": "https://localhost:8080/"
        },
        "id": "pTtobgc--ID9",
        "outputId": "1b23825f-0407-4ab4-8bc8-0e0d33ee3d7a"
      },
      "outputs": [
        {
          "output_type": "stream",
          "name": "stdout",
          "text": [
            "Epoch 1/100\n",
            "\u001b[1m29/29\u001b[0m \u001b[32m━━━━━━━━━━━━━━━━━━━━\u001b[0m\u001b[37m\u001b[0m \u001b[1m8s\u001b[0m 100ms/step - accuracy: 0.7540 - loss: 0.5727 - val_accuracy: 0.7808 - val_loss: 0.3784\n",
            "Epoch 2/100\n",
            "\u001b[1m29/29\u001b[0m \u001b[32m━━━━━━━━━━━━━━━━━━━━\u001b[0m\u001b[37m\u001b[0m \u001b[1m5s\u001b[0m 7ms/step - accuracy: 0.8594 - loss: 0.3133 - val_accuracy: 0.9589 - val_loss: 0.1349\n",
            "Epoch 3/100\n",
            "\u001b[1m29/29\u001b[0m \u001b[32m━━━━━━━━━━━━━━━━━━━━\u001b[0m\u001b[37m\u001b[0m \u001b[1m0s\u001b[0m 6ms/step - accuracy: 0.9259 - loss: 0.1599 - val_accuracy: 0.8767 - val_loss: 0.2159\n",
            "Epoch 4/100\n",
            "\u001b[1m29/29\u001b[0m \u001b[32m━━━━━━━━━━━━━━━━━━━━\u001b[0m\u001b[37m\u001b[0m \u001b[1m0s\u001b[0m 7ms/step - accuracy: 0.9247 - loss: 0.1539 - val_accuracy: 0.9178 - val_loss: 0.1483\n",
            "Epoch 5/100\n",
            "\u001b[1m29/29\u001b[0m \u001b[32m━━━━━━━━━━━━━━━━━━━━\u001b[0m\u001b[37m\u001b[0m \u001b[1m0s\u001b[0m 7ms/step - accuracy: 0.9036 - loss: 0.2465 - val_accuracy: 0.9452 - val_loss: 0.1734\n",
            "Epoch 6/100\n",
            "\u001b[1m29/29\u001b[0m \u001b[32m━━━━━━━━━━━━━━━━━━━━\u001b[0m\u001b[37m\u001b[0m \u001b[1m0s\u001b[0m 6ms/step - accuracy: 0.9470 - loss: 0.1591 - val_accuracy: 0.8904 - val_loss: 0.2210\n",
            "Epoch 7/100\n",
            "\u001b[1m29/29\u001b[0m \u001b[32m━━━━━━━━━━━━━━━━━━━━\u001b[0m\u001b[37m\u001b[0m \u001b[1m0s\u001b[0m 7ms/step - accuracy: 0.9085 - loss: 0.2001 - val_accuracy: 0.9589 - val_loss: 0.0866\n",
            "Epoch 8/100\n",
            "\u001b[1m29/29\u001b[0m \u001b[32m━━━━━━━━━━━━━━━━━━━━\u001b[0m\u001b[37m\u001b[0m \u001b[1m0s\u001b[0m 8ms/step - accuracy: 0.9565 - loss: 0.0861 - val_accuracy: 0.9589 - val_loss: 0.0871\n",
            "Epoch 9/100\n",
            "\u001b[1m29/29\u001b[0m \u001b[32m━━━━━━━━━━━━━━━━━━━━\u001b[0m\u001b[37m\u001b[0m \u001b[1m0s\u001b[0m 8ms/step - accuracy: 0.9771 - loss: 0.0660 - val_accuracy: 0.9726 - val_loss: 0.0873\n",
            "Epoch 10/100\n",
            "\u001b[1m29/29\u001b[0m \u001b[32m━━━━━━━━━━━━━━━━━━━━\u001b[0m\u001b[37m\u001b[0m \u001b[1m0s\u001b[0m 7ms/step - accuracy: 0.9761 - loss: 0.0554 - val_accuracy: 0.8767 - val_loss: 0.3709\n",
            "Epoch 11/100\n",
            "\u001b[1m29/29\u001b[0m \u001b[32m━━━━━━━━━━━━━━━━━━━━\u001b[0m\u001b[37m\u001b[0m \u001b[1m0s\u001b[0m 7ms/step - accuracy: 0.9225 - loss: 0.1901 - val_accuracy: 0.9726 - val_loss: 0.0664\n",
            "Epoch 12/100\n",
            "\u001b[1m29/29\u001b[0m \u001b[32m━━━━━━━━━━━━━━━━━━━━\u001b[0m\u001b[37m\u001b[0m \u001b[1m0s\u001b[0m 8ms/step - accuracy: 0.9620 - loss: 0.0782 - val_accuracy: 0.9589 - val_loss: 0.0885\n",
            "Epoch 13/100\n",
            "\u001b[1m29/29\u001b[0m \u001b[32m━━━━━━━━━━━━━━━━━━━━\u001b[0m\u001b[37m\u001b[0m \u001b[1m0s\u001b[0m 7ms/step - accuracy: 0.9298 - loss: 0.1395 - val_accuracy: 0.9726 - val_loss: 0.1045\n",
            "Epoch 14/100\n",
            "\u001b[1m29/29\u001b[0m \u001b[32m━━━━━━━━━━━━━━━━━━━━\u001b[0m\u001b[37m\u001b[0m \u001b[1m0s\u001b[0m 8ms/step - accuracy: 0.9624 - loss: 0.1068 - val_accuracy: 0.9178 - val_loss: 0.1650\n",
            "Epoch 15/100\n",
            "\u001b[1m29/29\u001b[0m \u001b[32m━━━━━━━━━━━━━━━━━━━━\u001b[0m\u001b[37m\u001b[0m \u001b[1m0s\u001b[0m 8ms/step - accuracy: 0.9626 - loss: 0.0934 - val_accuracy: 0.9726 - val_loss: 0.0737\n",
            "Epoch 16/100\n",
            "\u001b[1m29/29\u001b[0m \u001b[32m━━━━━━━━━━━━━━━━━━━━\u001b[0m\u001b[37m\u001b[0m \u001b[1m0s\u001b[0m 7ms/step - accuracy: 0.9855 - loss: 0.0556 - val_accuracy: 0.9863 - val_loss: 0.0507\n",
            "Epoch 17/100\n",
            "\u001b[1m29/29\u001b[0m \u001b[32m━━━━━━━━━━━━━━━━━━━━\u001b[0m\u001b[37m\u001b[0m \u001b[1m0s\u001b[0m 7ms/step - accuracy: 0.9730 - loss: 0.0587 - val_accuracy: 0.9178 - val_loss: 0.1144\n",
            "Epoch 18/100\n",
            "\u001b[1m29/29\u001b[0m \u001b[32m━━━━━━━━━━━━━━━━━━━━\u001b[0m\u001b[37m\u001b[0m \u001b[1m0s\u001b[0m 6ms/step - accuracy: 0.9546 - loss: 0.0794 - val_accuracy: 0.9589 - val_loss: 0.0713\n",
            "Epoch 19/100\n",
            "\u001b[1m29/29\u001b[0m \u001b[32m━━━━━━━━━━━━━━━━━━━━\u001b[0m\u001b[37m\u001b[0m \u001b[1m0s\u001b[0m 8ms/step - accuracy: 0.9621 - loss: 0.0611 - val_accuracy: 0.9589 - val_loss: 0.1121\n",
            "Epoch 20/100\n",
            "\u001b[1m29/29\u001b[0m \u001b[32m━━━━━━━━━━━━━━━━━━━━\u001b[0m\u001b[37m\u001b[0m \u001b[1m0s\u001b[0m 7ms/step - accuracy: 0.9664 - loss: 0.0969 - val_accuracy: 0.9863 - val_loss: 0.0573\n",
            "Epoch 21/100\n",
            "\u001b[1m29/29\u001b[0m \u001b[32m━━━━━━━━━━━━━━━━━━━━\u001b[0m\u001b[37m\u001b[0m \u001b[1m0s\u001b[0m 7ms/step - accuracy: 0.9787 - loss: 0.0612 - val_accuracy: 0.9589 - val_loss: 0.0734\n",
            "Epoch 22/100\n",
            "\u001b[1m29/29\u001b[0m \u001b[32m━━━━━━━━━━━━━━━━━━━━\u001b[0m\u001b[37m\u001b[0m \u001b[1m0s\u001b[0m 7ms/step - accuracy: 0.9745 - loss: 0.0639 - val_accuracy: 0.9863 - val_loss: 0.0372\n",
            "Epoch 23/100\n",
            "\u001b[1m29/29\u001b[0m \u001b[32m━━━━━━━━━━━━━━━━━━━━\u001b[0m\u001b[37m\u001b[0m \u001b[1m0s\u001b[0m 7ms/step - accuracy: 0.9668 - loss: 0.0738 - val_accuracy: 0.9863 - val_loss: 0.0556\n",
            "Epoch 24/100\n",
            "\u001b[1m29/29\u001b[0m \u001b[32m━━━━━━━━━━━━━━━━━━━━\u001b[0m\u001b[37m\u001b[0m \u001b[1m0s\u001b[0m 6ms/step - accuracy: 0.9850 - loss: 0.0708 - val_accuracy: 0.9726 - val_loss: 0.0685\n",
            "Epoch 25/100\n",
            "\u001b[1m29/29\u001b[0m \u001b[32m━━━━━━━━━━━━━━━━━━━━\u001b[0m\u001b[37m\u001b[0m \u001b[1m0s\u001b[0m 7ms/step - accuracy: 0.9720 - loss: 0.0624 - val_accuracy: 0.9863 - val_loss: 0.0450\n",
            "Epoch 26/100\n",
            "\u001b[1m29/29\u001b[0m \u001b[32m━━━━━━━━━━━━━━━━━━━━\u001b[0m\u001b[37m\u001b[0m \u001b[1m0s\u001b[0m 7ms/step - accuracy: 0.9852 - loss: 0.0403 - val_accuracy: 0.9863 - val_loss: 0.0390\n",
            "Epoch 27/100\n",
            "\u001b[1m29/29\u001b[0m \u001b[32m━━━━━━━━━━━━━━━━━━━━\u001b[0m\u001b[37m\u001b[0m \u001b[1m0s\u001b[0m 8ms/step - accuracy: 0.9649 - loss: 0.0571 - val_accuracy: 0.9726 - val_loss: 0.0377\n",
            "Epoch 28/100\n",
            "\u001b[1m29/29\u001b[0m \u001b[32m━━━━━━━━━━━━━━━━━━━━\u001b[0m\u001b[37m\u001b[0m \u001b[1m0s\u001b[0m 7ms/step - accuracy: 0.9787 - loss: 0.0441 - val_accuracy: 0.9863 - val_loss: 0.0371\n",
            "Epoch 29/100\n",
            "\u001b[1m29/29\u001b[0m \u001b[32m━━━━━━━━━━━━━━━━━━━━\u001b[0m\u001b[37m\u001b[0m \u001b[1m0s\u001b[0m 9ms/step - accuracy: 0.9726 - loss: 0.0833 - val_accuracy: 0.9863 - val_loss: 0.0500\n",
            "Epoch 30/100\n",
            "\u001b[1m29/29\u001b[0m \u001b[32m━━━━━━━━━━━━━━━━━━━━\u001b[0m\u001b[37m\u001b[0m \u001b[1m0s\u001b[0m 7ms/step - accuracy: 0.9744 - loss: 0.0483 - val_accuracy: 0.9863 - val_loss: 0.0598\n",
            "Epoch 31/100\n",
            "\u001b[1m29/29\u001b[0m \u001b[32m━━━━━━━━━━━━━━━━━━━━\u001b[0m\u001b[37m\u001b[0m \u001b[1m0s\u001b[0m 8ms/step - accuracy: 0.9691 - loss: 0.0731 - val_accuracy: 0.9863 - val_loss: 0.0507\n",
            "Epoch 32/100\n",
            "\u001b[1m29/29\u001b[0m \u001b[32m━━━━━━━━━━━━━━━━━━━━\u001b[0m\u001b[37m\u001b[0m \u001b[1m0s\u001b[0m 7ms/step - accuracy: 0.9872 - loss: 0.0350 - val_accuracy: 0.9726 - val_loss: 0.0443\n",
            "Epoch 33/100\n",
            "\u001b[1m29/29\u001b[0m \u001b[32m━━━━━━━━━━━━━━━━━━━━\u001b[0m\u001b[37m\u001b[0m \u001b[1m0s\u001b[0m 11ms/step - accuracy: 0.9864 - loss: 0.0506 - val_accuracy: 0.9452 - val_loss: 0.0973\n",
            "Epoch 34/100\n",
            "\u001b[1m29/29\u001b[0m \u001b[32m━━━━━━━━━━━━━━━━━━━━\u001b[0m\u001b[37m\u001b[0m \u001b[1m0s\u001b[0m 7ms/step - accuracy: 0.9566 - loss: 0.0693 - val_accuracy: 0.9452 - val_loss: 0.1014\n",
            "Epoch 35/100\n",
            "\u001b[1m29/29\u001b[0m \u001b[32m━━━━━━━━━━━━━━━━━━━━\u001b[0m\u001b[37m\u001b[0m \u001b[1m0s\u001b[0m 7ms/step - accuracy: 0.9821 - loss: 0.0659 - val_accuracy: 0.9863 - val_loss: 0.0517\n",
            "Epoch 36/100\n",
            "\u001b[1m29/29\u001b[0m \u001b[32m━━━━━━━━━━━━━━━━━━━━\u001b[0m\u001b[37m\u001b[0m \u001b[1m0s\u001b[0m 13ms/step - accuracy: 0.9925 - loss: 0.0284 - val_accuracy: 0.9863 - val_loss: 0.0377\n",
            "Epoch 37/100\n",
            "\u001b[1m29/29\u001b[0m \u001b[32m━━━━━━━━━━━━━━━━━━━━\u001b[0m\u001b[37m\u001b[0m \u001b[1m1s\u001b[0m 13ms/step - accuracy: 0.9637 - loss: 0.0670 - val_accuracy: 0.9863 - val_loss: 0.0383\n",
            "Epoch 38/100\n",
            "\u001b[1m29/29\u001b[0m \u001b[32m━━━━━━━━━━━━━━━━━━━━\u001b[0m\u001b[37m\u001b[0m \u001b[1m1s\u001b[0m 12ms/step - accuracy: 0.9818 - loss: 0.0435 - val_accuracy: 0.9863 - val_loss: 0.0431\n",
            "Epoch 39/100\n",
            "\u001b[1m29/29\u001b[0m \u001b[32m━━━━━━━━━━━━━━━━━━━━\u001b[0m\u001b[37m\u001b[0m \u001b[1m0s\u001b[0m 12ms/step - accuracy: 0.9795 - loss: 0.0415 - val_accuracy: 0.9863 - val_loss: 0.0360\n",
            "Epoch 40/100\n",
            "\u001b[1m29/29\u001b[0m \u001b[32m━━━━━━━━━━━━━━━━━━━━\u001b[0m\u001b[37m\u001b[0m \u001b[1m0s\u001b[0m 11ms/step - accuracy: 0.9827 - loss: 0.0328 - val_accuracy: 0.9863 - val_loss: 0.0383\n",
            "Epoch 41/100\n",
            "\u001b[1m29/29\u001b[0m \u001b[32m━━━━━━━━━━━━━━━━━━━━\u001b[0m\u001b[37m\u001b[0m \u001b[1m0s\u001b[0m 7ms/step - accuracy: 0.9811 - loss: 0.0585 - val_accuracy: 0.9863 - val_loss: 0.0413\n",
            "Epoch 42/100\n",
            "\u001b[1m29/29\u001b[0m \u001b[32m━━━━━━━━━━━━━━━━━━━━\u001b[0m\u001b[37m\u001b[0m \u001b[1m0s\u001b[0m 7ms/step - accuracy: 0.9840 - loss: 0.0393 - val_accuracy: 0.9863 - val_loss: 0.0469\n",
            "Epoch 43/100\n",
            "\u001b[1m29/29\u001b[0m \u001b[32m━━━━━━━━━━━━━━━━━━━━\u001b[0m\u001b[37m\u001b[0m \u001b[1m0s\u001b[0m 8ms/step - accuracy: 0.9708 - loss: 0.0544 - val_accuracy: 0.9726 - val_loss: 0.0738\n",
            "Epoch 44/100\n",
            "\u001b[1m29/29\u001b[0m \u001b[32m━━━━━━━━━━━━━━━━━━━━\u001b[0m\u001b[37m\u001b[0m \u001b[1m0s\u001b[0m 7ms/step - accuracy: 0.9750 - loss: 0.0494 - val_accuracy: 0.9726 - val_loss: 0.0388\n",
            "Epoch 45/100\n",
            "\u001b[1m29/29\u001b[0m \u001b[32m━━━━━━━━━━━━━━━━━━━━\u001b[0m\u001b[37m\u001b[0m \u001b[1m0s\u001b[0m 6ms/step - accuracy: 0.9684 - loss: 0.0474 - val_accuracy: 0.9863 - val_loss: 0.0309\n",
            "Epoch 46/100\n",
            "\u001b[1m29/29\u001b[0m \u001b[32m━━━━━━━━━━━━━━━━━━━━\u001b[0m\u001b[37m\u001b[0m \u001b[1m0s\u001b[0m 8ms/step - accuracy: 0.9906 - loss: 0.0235 - val_accuracy: 0.9863 - val_loss: 0.0387\n",
            "Epoch 47/100\n",
            "\u001b[1m29/29\u001b[0m \u001b[32m━━━━━━━━━━━━━━━━━━━━\u001b[0m\u001b[37m\u001b[0m \u001b[1m0s\u001b[0m 8ms/step - accuracy: 0.9795 - loss: 0.0435 - val_accuracy: 0.9863 - val_loss: 0.0261\n",
            "Epoch 48/100\n",
            "\u001b[1m29/29\u001b[0m \u001b[32m━━━━━━━━━━━━━━━━━━━━\u001b[0m\u001b[37m\u001b[0m \u001b[1m0s\u001b[0m 7ms/step - accuracy: 0.9857 - loss: 0.0364 - val_accuracy: 0.9863 - val_loss: 0.0347\n",
            "Epoch 49/100\n",
            "\u001b[1m29/29\u001b[0m \u001b[32m━━━━━━━━━━━━━━━━━━━━\u001b[0m\u001b[37m\u001b[0m \u001b[1m0s\u001b[0m 8ms/step - accuracy: 0.9837 - loss: 0.0356 - val_accuracy: 0.9726 - val_loss: 0.0582\n",
            "Epoch 50/100\n",
            "\u001b[1m29/29\u001b[0m \u001b[32m━━━━━━━━━━━━━━━━━━━━\u001b[0m\u001b[37m\u001b[0m \u001b[1m0s\u001b[0m 8ms/step - accuracy: 0.9865 - loss: 0.0290 - val_accuracy: 0.9863 - val_loss: 0.0282\n",
            "Epoch 51/100\n",
            "\u001b[1m29/29\u001b[0m \u001b[32m━━━━━━━━━━━━━━━━━━━━\u001b[0m\u001b[37m\u001b[0m \u001b[1m0s\u001b[0m 8ms/step - accuracy: 0.9798 - loss: 0.0308 - val_accuracy: 0.9726 - val_loss: 0.0575\n",
            "Epoch 52/100\n",
            "\u001b[1m29/29\u001b[0m \u001b[32m━━━━━━━━━━━━━━━━━━━━\u001b[0m\u001b[37m\u001b[0m \u001b[1m0s\u001b[0m 8ms/step - accuracy: 0.9872 - loss: 0.0216 - val_accuracy: 0.9863 - val_loss: 0.0304\n",
            "Epoch 53/100\n",
            "\u001b[1m29/29\u001b[0m \u001b[32m━━━━━━━━━━━━━━━━━━━━\u001b[0m\u001b[37m\u001b[0m \u001b[1m0s\u001b[0m 8ms/step - accuracy: 0.9728 - loss: 0.0410 - val_accuracy: 0.9863 - val_loss: 0.0233\n",
            "Epoch 54/100\n",
            "\u001b[1m29/29\u001b[0m \u001b[32m━━━━━━━━━━━━━━━━━━━━\u001b[0m\u001b[37m\u001b[0m \u001b[1m0s\u001b[0m 8ms/step - accuracy: 0.9889 - loss: 0.0247 - val_accuracy: 0.9589 - val_loss: 0.0594\n",
            "Epoch 55/100\n",
            "\u001b[1m29/29\u001b[0m \u001b[32m━━━━━━━━━━━━━━━━━━━━\u001b[0m\u001b[37m\u001b[0m \u001b[1m0s\u001b[0m 8ms/step - accuracy: 0.9721 - loss: 0.0407 - val_accuracy: 0.9863 - val_loss: 0.0331\n",
            "Epoch 56/100\n",
            "\u001b[1m29/29\u001b[0m \u001b[32m━━━━━━━━━━━━━━━━━━━━\u001b[0m\u001b[37m\u001b[0m \u001b[1m0s\u001b[0m 7ms/step - accuracy: 0.9852 - loss: 0.0262 - val_accuracy: 0.9726 - val_loss: 0.0566\n",
            "Epoch 57/100\n",
            "\u001b[1m29/29\u001b[0m \u001b[32m━━━━━━━━━━━━━━━━━━━━\u001b[0m\u001b[37m\u001b[0m \u001b[1m0s\u001b[0m 8ms/step - accuracy: 0.9847 - loss: 0.0390 - val_accuracy: 0.9863 - val_loss: 0.0367\n",
            "Epoch 58/100\n",
            "\u001b[1m29/29\u001b[0m \u001b[32m━━━━━━━━━━━━━━━━━━━━\u001b[0m\u001b[37m\u001b[0m \u001b[1m0s\u001b[0m 8ms/step - accuracy: 0.9947 - loss: 0.0190 - val_accuracy: 0.9863 - val_loss: 0.0300\n",
            "Epoch 59/100\n",
            "\u001b[1m29/29\u001b[0m \u001b[32m━━━━━━━━━━━━━━━━━━━━\u001b[0m\u001b[37m\u001b[0m \u001b[1m0s\u001b[0m 7ms/step - accuracy: 0.9921 - loss: 0.0271 - val_accuracy: 0.9863 - val_loss: 0.0267\n",
            "Epoch 60/100\n",
            "\u001b[1m29/29\u001b[0m \u001b[32m━━━━━━━━━━━━━━━━━━━━\u001b[0m\u001b[37m\u001b[0m \u001b[1m0s\u001b[0m 7ms/step - accuracy: 0.9804 - loss: 0.0341 - val_accuracy: 0.9863 - val_loss: 0.0264\n",
            "Epoch 61/100\n",
            "\u001b[1m29/29\u001b[0m \u001b[32m━━━━━━━━━━━━━━━━━━━━\u001b[0m\u001b[37m\u001b[0m \u001b[1m0s\u001b[0m 8ms/step - accuracy: 0.9895 - loss: 0.0231 - val_accuracy: 0.9863 - val_loss: 0.0336\n",
            "Epoch 62/100\n",
            "\u001b[1m29/29\u001b[0m \u001b[32m━━━━━━━━━━━━━━━━━━━━\u001b[0m\u001b[37m\u001b[0m \u001b[1m0s\u001b[0m 7ms/step - accuracy: 0.9919 - loss: 0.0200 - val_accuracy: 0.9863 - val_loss: 0.0245\n",
            "Epoch 63/100\n",
            "\u001b[1m29/29\u001b[0m \u001b[32m━━━━━━━━━━━━━━━━━━━━\u001b[0m\u001b[37m\u001b[0m \u001b[1m0s\u001b[0m 7ms/step - accuracy: 0.9954 - loss: 0.0144 - val_accuracy: 0.9863 - val_loss: 0.0246\n",
            "Epoch 64/100\n",
            "\u001b[1m29/29\u001b[0m \u001b[32m━━━━━━━━━━━━━━━━━━━━\u001b[0m\u001b[37m\u001b[0m \u001b[1m0s\u001b[0m 8ms/step - accuracy: 0.9871 - loss: 0.0211 - val_accuracy: 0.9863 - val_loss: 0.0349\n",
            "Epoch 65/100\n",
            "\u001b[1m29/29\u001b[0m \u001b[32m━━━━━━━━━━━━━━━━━━━━\u001b[0m\u001b[37m\u001b[0m \u001b[1m0s\u001b[0m 8ms/step - accuracy: 0.9955 - loss: 0.0203 - val_accuracy: 0.9863 - val_loss: 0.0249\n",
            "Epoch 66/100\n",
            "\u001b[1m29/29\u001b[0m \u001b[32m━━━━━━━━━━━━━━━━━━━━\u001b[0m\u001b[37m\u001b[0m \u001b[1m0s\u001b[0m 7ms/step - accuracy: 0.9955 - loss: 0.0217 - val_accuracy: 0.9863 - val_loss: 0.0247\n",
            "Epoch 67/100\n",
            "\u001b[1m29/29\u001b[0m \u001b[32m━━━━━━━━━━━━━━━━━━━━\u001b[0m\u001b[37m\u001b[0m \u001b[1m0s\u001b[0m 6ms/step - accuracy: 0.9928 - loss: 0.0167 - val_accuracy: 0.9863 - val_loss: 0.0282\n",
            "Epoch 68/100\n",
            "\u001b[1m29/29\u001b[0m \u001b[32m━━━━━━━━━━━━━━━━━━━━\u001b[0m\u001b[37m\u001b[0m \u001b[1m0s\u001b[0m 8ms/step - accuracy: 0.9889 - loss: 0.0332 - val_accuracy: 0.9863 - val_loss: 0.0279\n",
            "Epoch 69/100\n",
            "\u001b[1m29/29\u001b[0m \u001b[32m━━━━━━━━━━━━━━━━━━━━\u001b[0m\u001b[37m\u001b[0m \u001b[1m0s\u001b[0m 7ms/step - accuracy: 0.9817 - loss: 0.0310 - val_accuracy: 0.9726 - val_loss: 0.0324\n",
            "Epoch 70/100\n",
            "\u001b[1m29/29\u001b[0m \u001b[32m━━━━━━━━━━━━━━━━━━━━\u001b[0m\u001b[37m\u001b[0m \u001b[1m0s\u001b[0m 7ms/step - accuracy: 0.9888 - loss: 0.0265 - val_accuracy: 0.9863 - val_loss: 0.0269\n",
            "Epoch 71/100\n",
            "\u001b[1m29/29\u001b[0m \u001b[32m━━━━━━━━━━━━━━━━━━━━\u001b[0m\u001b[37m\u001b[0m \u001b[1m0s\u001b[0m 7ms/step - accuracy: 0.9957 - loss: 0.0131 - val_accuracy: 0.9863 - val_loss: 0.0245\n",
            "Epoch 72/100\n",
            "\u001b[1m29/29\u001b[0m \u001b[32m━━━━━━━━━━━━━━━━━━━━\u001b[0m\u001b[37m\u001b[0m \u001b[1m0s\u001b[0m 7ms/step - accuracy: 0.9883 - loss: 0.0269 - val_accuracy: 0.9863 - val_loss: 0.0213\n",
            "Epoch 73/100\n",
            "\u001b[1m29/29\u001b[0m \u001b[32m━━━━━━━━━━━━━━━━━━━━\u001b[0m\u001b[37m\u001b[0m \u001b[1m0s\u001b[0m 10ms/step - accuracy: 0.9993 - loss: 0.0096 - val_accuracy: 0.9863 - val_loss: 0.0215\n",
            "Epoch 74/100\n",
            "\u001b[1m29/29\u001b[0m \u001b[32m━━━━━━━━━━━━━━━━━━━━\u001b[0m\u001b[37m\u001b[0m \u001b[1m0s\u001b[0m 7ms/step - accuracy: 0.9948 - loss: 0.0193 - val_accuracy: 0.9863 - val_loss: 0.0215\n",
            "Epoch 75/100\n",
            "\u001b[1m29/29\u001b[0m \u001b[32m━━━━━━━━━━━━━━━━━━━━\u001b[0m\u001b[37m\u001b[0m \u001b[1m0s\u001b[0m 12ms/step - accuracy: 0.9861 - loss: 0.0287 - val_accuracy: 0.9863 - val_loss: 0.0206\n",
            "Epoch 76/100\n",
            "\u001b[1m29/29\u001b[0m \u001b[32m━━━━━━━━━━━━━━━━━━━━\u001b[0m\u001b[37m\u001b[0m \u001b[1m1s\u001b[0m 12ms/step - accuracy: 0.9922 - loss: 0.0170 - val_accuracy: 0.9863 - val_loss: 0.0231\n",
            "Epoch 77/100\n",
            "\u001b[1m29/29\u001b[0m \u001b[32m━━━━━━━━━━━━━━━━━━━━\u001b[0m\u001b[37m\u001b[0m \u001b[1m1s\u001b[0m 13ms/step - accuracy: 0.9893 - loss: 0.0230 - val_accuracy: 0.9863 - val_loss: 0.0195\n",
            "Epoch 78/100\n",
            "\u001b[1m29/29\u001b[0m \u001b[32m━━━━━━━━━━━━━━━━━━━━\u001b[0m\u001b[37m\u001b[0m \u001b[1m1s\u001b[0m 11ms/step - accuracy: 0.9819 - loss: 0.0235 - val_accuracy: 0.9863 - val_loss: 0.0190\n",
            "Epoch 79/100\n",
            "\u001b[1m29/29\u001b[0m \u001b[32m━━━━━━━━━━━━━━━━━━━━\u001b[0m\u001b[37m\u001b[0m \u001b[1m0s\u001b[0m 8ms/step - accuracy: 0.9888 - loss: 0.0157 - val_accuracy: 0.9863 - val_loss: 0.0385\n",
            "Epoch 80/100\n",
            "\u001b[1m29/29\u001b[0m \u001b[32m━━━━━━━━━━━━━━━━━━━━\u001b[0m\u001b[37m\u001b[0m \u001b[1m0s\u001b[0m 11ms/step - accuracy: 0.9860 - loss: 0.0319 - val_accuracy: 0.9863 - val_loss: 0.0219\n",
            "Epoch 81/100\n",
            "\u001b[1m29/29\u001b[0m \u001b[32m━━━━━━━━━━━━━━━━━━━━\u001b[0m\u001b[37m\u001b[0m \u001b[1m1s\u001b[0m 7ms/step - accuracy: 0.9938 - loss: 0.0127 - val_accuracy: 0.9863 - val_loss: 0.0182\n",
            "Epoch 82/100\n",
            "\u001b[1m29/29\u001b[0m \u001b[32m━━━━━━━━━━━━━━━━━━━━\u001b[0m\u001b[37m\u001b[0m \u001b[1m0s\u001b[0m 7ms/step - accuracy: 0.9961 - loss: 0.0185 - val_accuracy: 0.9863 - val_loss: 0.0197\n",
            "Epoch 83/100\n",
            "\u001b[1m29/29\u001b[0m \u001b[32m━━━━━━━━━━━━━━━━━━━━\u001b[0m\u001b[37m\u001b[0m \u001b[1m0s\u001b[0m 7ms/step - accuracy: 0.9939 - loss: 0.0178 - val_accuracy: 0.9863 - val_loss: 0.0167\n",
            "Epoch 84/100\n",
            "\u001b[1m29/29\u001b[0m \u001b[32m━━━━━━━━━━━━━━━━━━━━\u001b[0m\u001b[37m\u001b[0m \u001b[1m0s\u001b[0m 8ms/step - accuracy: 0.9949 - loss: 0.0142 - val_accuracy: 0.9863 - val_loss: 0.0221\n",
            "Epoch 85/100\n",
            "\u001b[1m29/29\u001b[0m \u001b[32m━━━━━━━━━━━━━━━━━━━━\u001b[0m\u001b[37m\u001b[0m \u001b[1m0s\u001b[0m 7ms/step - accuracy: 0.9875 - loss: 0.0490 - val_accuracy: 0.9863 - val_loss: 0.0183\n",
            "Epoch 86/100\n",
            "\u001b[1m29/29\u001b[0m \u001b[32m━━━━━━━━━━━━━━━━━━━━\u001b[0m\u001b[37m\u001b[0m \u001b[1m0s\u001b[0m 7ms/step - accuracy: 0.9904 - loss: 0.0262 - val_accuracy: 1.0000 - val_loss: 0.0165\n",
            "Epoch 87/100\n",
            "\u001b[1m29/29\u001b[0m \u001b[32m━━━━━━━━━━━━━━━━━━━━\u001b[0m\u001b[37m\u001b[0m \u001b[1m0s\u001b[0m 7ms/step - accuracy: 0.9974 - loss: 0.0127 - val_accuracy: 1.0000 - val_loss: 0.0174\n",
            "Epoch 88/100\n",
            "\u001b[1m29/29\u001b[0m \u001b[32m━━━━━━━━━━━━━━━━━━━━\u001b[0m\u001b[37m\u001b[0m \u001b[1m0s\u001b[0m 6ms/step - accuracy: 0.9950 - loss: 0.0275 - val_accuracy: 1.0000 - val_loss: 0.0149\n",
            "Epoch 89/100\n",
            "\u001b[1m29/29\u001b[0m \u001b[32m━━━━━━━━━━━━━━━━━━━━\u001b[0m\u001b[37m\u001b[0m \u001b[1m0s\u001b[0m 7ms/step - accuracy: 0.9947 - loss: 0.0142 - val_accuracy: 1.0000 - val_loss: 0.0153\n",
            "Epoch 90/100\n",
            "\u001b[1m29/29\u001b[0m \u001b[32m━━━━━━━━━━━━━━━━━━━━\u001b[0m\u001b[37m\u001b[0m \u001b[1m0s\u001b[0m 7ms/step - accuracy: 0.9995 - loss: 0.0105 - val_accuracy: 0.9863 - val_loss: 0.0233\n",
            "Epoch 91/100\n",
            "\u001b[1m29/29\u001b[0m \u001b[32m━━━━━━━━━━━━━━━━━━━━\u001b[0m\u001b[37m\u001b[0m \u001b[1m0s\u001b[0m 8ms/step - accuracy: 0.9990 - loss: 0.0104 - val_accuracy: 1.0000 - val_loss: 0.0156\n",
            "Epoch 92/100\n",
            "\u001b[1m29/29\u001b[0m \u001b[32m━━━━━━━━━━━━━━━━━━━━\u001b[0m\u001b[37m\u001b[0m \u001b[1m0s\u001b[0m 7ms/step - accuracy: 0.9823 - loss: 0.0239 - val_accuracy: 0.9863 - val_loss: 0.0260\n",
            "Epoch 93/100\n",
            "\u001b[1m29/29\u001b[0m \u001b[32m━━━━━━━━━━━━━━━━━━━━\u001b[0m\u001b[37m\u001b[0m \u001b[1m0s\u001b[0m 8ms/step - accuracy: 0.9808 - loss: 0.0305 - val_accuracy: 0.9863 - val_loss: 0.0204\n",
            "Epoch 94/100\n",
            "\u001b[1m29/29\u001b[0m \u001b[32m━━━━━━━━━━━━━━━━━━━━\u001b[0m\u001b[37m\u001b[0m \u001b[1m0s\u001b[0m 8ms/step - accuracy: 0.9935 - loss: 0.0157 - val_accuracy: 1.0000 - val_loss: 0.0150\n",
            "Epoch 95/100\n",
            "\u001b[1m29/29\u001b[0m \u001b[32m━━━━━━━━━━━━━━━━━━━━\u001b[0m\u001b[37m\u001b[0m \u001b[1m0s\u001b[0m 7ms/step - accuracy: 0.9968 - loss: 0.0131 - val_accuracy: 0.9863 - val_loss: 0.0156\n",
            "Epoch 96/100\n",
            "\u001b[1m29/29\u001b[0m \u001b[32m━━━━━━━━━━━━━━━━━━━━\u001b[0m\u001b[37m\u001b[0m \u001b[1m0s\u001b[0m 6ms/step - accuracy: 0.9792 - loss: 0.0299 - val_accuracy: 0.9863 - val_loss: 0.0219\n",
            "Epoch 97/100\n",
            "\u001b[1m29/29\u001b[0m \u001b[32m━━━━━━━━━━━━━━━━━━━━\u001b[0m\u001b[37m\u001b[0m \u001b[1m0s\u001b[0m 6ms/step - accuracy: 0.9933 - loss: 0.0162 - val_accuracy: 1.0000 - val_loss: 0.0159\n",
            "Epoch 98/100\n",
            "\u001b[1m29/29\u001b[0m \u001b[32m━━━━━━━━━━━━━━━━━━━━\u001b[0m\u001b[37m\u001b[0m \u001b[1m0s\u001b[0m 7ms/step - accuracy: 0.9957 - loss: 0.0188 - val_accuracy: 0.9863 - val_loss: 0.0171\n",
            "Epoch 99/100\n",
            "\u001b[1m29/29\u001b[0m \u001b[32m━━━━━━━━━━━━━━━━━━━━\u001b[0m\u001b[37m\u001b[0m \u001b[1m0s\u001b[0m 8ms/step - accuracy: 0.9867 - loss: 0.0333 - val_accuracy: 1.0000 - val_loss: 0.0147\n",
            "Epoch 100/100\n",
            "\u001b[1m29/29\u001b[0m \u001b[32m━━━━━━━━━━━━━━━━━━━━\u001b[0m\u001b[37m\u001b[0m \u001b[1m0s\u001b[0m 8ms/step - accuracy: 0.9977 - loss: 0.0101 - val_accuracy: 1.0000 - val_loss: 0.0143\n"
          ]
        },
        {
          "output_type": "execute_result",
          "data": {
            "text/plain": [
              "<keras.src.callbacks.history.History at 0x78aa84350210>"
            ]
          },
          "metadata": {},
          "execution_count": 17
        }
      ],
      "source": [
        "ann.fit(x_train,y_train,batch_size=10,epochs=100,validation_data=(x_test, y_test))"
      ]
    },
    {
      "cell_type": "code",
      "execution_count": 20,
      "metadata": {
        "id": "tU71JM9TvYAw",
        "colab": {
          "base_uri": "https://localhost:8080/",
          "height": 211
        },
        "outputId": "d3b76079-73e6-4ec6-bbdd-c08256253fed"
      },
      "outputs": [
        {
          "output_type": "error",
          "ename": "NameError",
          "evalue": "name 'history' is not defined",
          "traceback": [
            "\u001b[0;31m---------------------------------------------------------------------------\u001b[0m",
            "\u001b[0;31mNameError\u001b[0m                                 Traceback (most recent call last)",
            "\u001b[0;32m<ipython-input-20-d79a72f3cd76>\u001b[0m in \u001b[0;36m<cell line: 0>\u001b[0;34m()\u001b[0m\n\u001b[1;32m      1\u001b[0m \u001b[0;32mimport\u001b[0m \u001b[0mmatplotlib\u001b[0m\u001b[0;34m.\u001b[0m\u001b[0mpyplot\u001b[0m \u001b[0;32mas\u001b[0m \u001b[0mplt\u001b[0m\u001b[0;34m\u001b[0m\u001b[0;34m\u001b[0m\u001b[0m\n\u001b[1;32m      2\u001b[0m \u001b[0;34m\u001b[0m\u001b[0m\n\u001b[0;32m----> 3\u001b[0;31m \u001b[0mplt\u001b[0m\u001b[0;34m.\u001b[0m\u001b[0mplot\u001b[0m\u001b[0;34m(\u001b[0m\u001b[0mhistory\u001b[0m\u001b[0;34m.\u001b[0m\u001b[0mhistory\u001b[0m\u001b[0;34m[\u001b[0m\u001b[0;34m'accuracy'\u001b[0m\u001b[0;34m]\u001b[0m\u001b[0;34m,\u001b[0m \u001b[0mlabel\u001b[0m\u001b[0;34m=\u001b[0m\u001b[0;34m'Train Accuracy'\u001b[0m\u001b[0;34m)\u001b[0m\u001b[0;34m\u001b[0m\u001b[0;34m\u001b[0m\u001b[0m\n\u001b[0m\u001b[1;32m      4\u001b[0m \u001b[0mplt\u001b[0m\u001b[0;34m.\u001b[0m\u001b[0mplot\u001b[0m\u001b[0;34m(\u001b[0m\u001b[0mhistory\u001b[0m\u001b[0;34m.\u001b[0m\u001b[0mhistory\u001b[0m\u001b[0;34m[\u001b[0m\u001b[0;34m'val_accuracy'\u001b[0m\u001b[0;34m]\u001b[0m\u001b[0;34m,\u001b[0m \u001b[0mlabel\u001b[0m\u001b[0;34m=\u001b[0m\u001b[0;34m'Validation Accuracy'\u001b[0m\u001b[0;34m)\u001b[0m\u001b[0;34m\u001b[0m\u001b[0;34m\u001b[0m\u001b[0m\n\u001b[1;32m      5\u001b[0m \u001b[0mplt\u001b[0m\u001b[0;34m.\u001b[0m\u001b[0mxlabel\u001b[0m\u001b[0;34m(\u001b[0m\u001b[0;34m'Epochs'\u001b[0m\u001b[0;34m)\u001b[0m\u001b[0;34m\u001b[0m\u001b[0;34m\u001b[0m\u001b[0m\n",
            "\u001b[0;31mNameError\u001b[0m: name 'history' is not defined"
          ]
        }
      ],
      "source": [
        "import matplotlib.pyplot as plt\n",
        "\n",
        "plt.plot(history.history['accuracy'], label='Train Accuracy')\n",
        "plt.plot(history.history['val_accuracy'], label='Validation Accuracy')\n",
        "plt.xlabel('Epochs')\n",
        "plt.ylabel('Accuracy')\n",
        "plt.legend()\n",
        "plt.title('Model Accuracy')\n",
        "plt.show()\n"
      ]
    },
    {
      "source": [
        "import matplotlib.pyplot as plt\n",
        "\n",
        "# Assign the result of ann.fit to the history variable\n",
        "history = ann.fit(x_train,y_train,batch_size=10,epochs=100,validation_data=(x_test, y_test))\n",
        "\n",
        "plt.plot(history.history['accuracy'], label='Train Accuracy')\n",
        "plt.plot(history.history['val_accuracy'], label='Validation Accuracy')\n",
        "plt.xlabel('Epochs')\n",
        "plt.ylabel('Accuracy')\n",
        "plt.legend()\n",
        "plt.title('Model Accuracy')\n",
        "plt.show()"
      ],
      "cell_type": "code",
      "metadata": {
        "colab": {
          "base_uri": "https://localhost:8080/",
          "height": 1000
        },
        "id": "vM2T-NQ-hGQS",
        "outputId": "d28c6f94-d8e8-4b68-a175-be72e200dd07"
      },
      "execution_count": 21,
      "outputs": [
        {
          "output_type": "stream",
          "name": "stdout",
          "text": [
            "Epoch 1/100\n",
            "\u001b[1m29/29\u001b[0m \u001b[32m━━━━━━━━━━━━━━━━━━━━\u001b[0m\u001b[37m\u001b[0m \u001b[1m0s\u001b[0m 9ms/step - accuracy: 0.9921 - loss: 0.0152 - val_accuracy: 0.9863 - val_loss: 0.0154\n",
            "Epoch 2/100\n",
            "\u001b[1m29/29\u001b[0m \u001b[32m━━━━━━━━━━━━━━━━━━━━\u001b[0m\u001b[37m\u001b[0m \u001b[1m0s\u001b[0m 7ms/step - accuracy: 0.9953 - loss: 0.0127 - val_accuracy: 1.0000 - val_loss: 0.0142\n",
            "Epoch 3/100\n",
            "\u001b[1m29/29\u001b[0m \u001b[32m━━━━━━━━━━━━━━━━━━━━\u001b[0m\u001b[37m\u001b[0m \u001b[1m0s\u001b[0m 6ms/step - accuracy: 0.9948 - loss: 0.0180 - val_accuracy: 0.9863 - val_loss: 0.0149\n",
            "Epoch 4/100\n",
            "\u001b[1m29/29\u001b[0m \u001b[32m━━━━━━━━━━━━━━━━━━━━\u001b[0m\u001b[37m\u001b[0m \u001b[1m0s\u001b[0m 7ms/step - accuracy: 0.9961 - loss: 0.0125 - val_accuracy: 1.0000 - val_loss: 0.0144\n",
            "Epoch 5/100\n",
            "\u001b[1m29/29\u001b[0m \u001b[32m━━━━━━━━━━━━━━━━━━━━\u001b[0m\u001b[37m\u001b[0m \u001b[1m0s\u001b[0m 7ms/step - accuracy: 0.9943 - loss: 0.0181 - val_accuracy: 1.0000 - val_loss: 0.0130\n",
            "Epoch 6/100\n",
            "\u001b[1m29/29\u001b[0m \u001b[32m━━━━━━━━━━━━━━━━━━━━\u001b[0m\u001b[37m\u001b[0m \u001b[1m0s\u001b[0m 6ms/step - accuracy: 0.9993 - loss: 0.0133 - val_accuracy: 1.0000 - val_loss: 0.0138\n",
            "Epoch 7/100\n",
            "\u001b[1m29/29\u001b[0m \u001b[32m━━━━━━━━━━━━━━━━━━━━\u001b[0m\u001b[37m\u001b[0m \u001b[1m0s\u001b[0m 7ms/step - accuracy: 0.9900 - loss: 0.0183 - val_accuracy: 0.9863 - val_loss: 0.0141\n",
            "Epoch 8/100\n",
            "\u001b[1m29/29\u001b[0m \u001b[32m━━━━━━━━━━━━━━━━━━━━\u001b[0m\u001b[37m\u001b[0m \u001b[1m0s\u001b[0m 8ms/step - accuracy: 0.9990 - loss: 0.0085 - val_accuracy: 1.0000 - val_loss: 0.0135\n",
            "Epoch 9/100\n",
            "\u001b[1m29/29\u001b[0m \u001b[32m━━━━━━━━━━━━━━━━━━━━\u001b[0m\u001b[37m\u001b[0m \u001b[1m0s\u001b[0m 8ms/step - accuracy: 0.9995 - loss: 0.0135 - val_accuracy: 0.9863 - val_loss: 0.0143\n",
            "Epoch 10/100\n",
            "\u001b[1m29/29\u001b[0m \u001b[32m━━━━━━━━━━━━━━━━━━━━\u001b[0m\u001b[37m\u001b[0m \u001b[1m0s\u001b[0m 8ms/step - accuracy: 0.9828 - loss: 0.0259 - val_accuracy: 0.9863 - val_loss: 0.0166\n",
            "Epoch 11/100\n",
            "\u001b[1m29/29\u001b[0m \u001b[32m━━━━━━━━━━━━━━━━━━━━\u001b[0m\u001b[37m\u001b[0m \u001b[1m0s\u001b[0m 8ms/step - accuracy: 0.9943 - loss: 0.0157 - val_accuracy: 1.0000 - val_loss: 0.0128\n",
            "Epoch 12/100\n",
            "\u001b[1m29/29\u001b[0m \u001b[32m━━━━━━━━━━━━━━━━━━━━\u001b[0m\u001b[37m\u001b[0m \u001b[1m0s\u001b[0m 8ms/step - accuracy: 0.9898 - loss: 0.0167 - val_accuracy: 0.9863 - val_loss: 0.0181\n",
            "Epoch 13/100\n",
            "\u001b[1m29/29\u001b[0m \u001b[32m━━━━━━━━━━━━━━━━━━━━\u001b[0m\u001b[37m\u001b[0m \u001b[1m0s\u001b[0m 8ms/step - accuracy: 0.9951 - loss: 0.0118 - val_accuracy: 1.0000 - val_loss: 0.0120\n",
            "Epoch 14/100\n",
            "\u001b[1m29/29\u001b[0m \u001b[32m━━━━━━━━━━━━━━━━━━━━\u001b[0m\u001b[37m\u001b[0m \u001b[1m0s\u001b[0m 7ms/step - accuracy: 0.9984 - loss: 0.0116 - val_accuracy: 1.0000 - val_loss: 0.0116\n",
            "Epoch 15/100\n",
            "\u001b[1m29/29\u001b[0m \u001b[32m━━━━━━━━━━━━━━━━━━━━\u001b[0m\u001b[37m\u001b[0m \u001b[1m0s\u001b[0m 7ms/step - accuracy: 0.9983 - loss: 0.0102 - val_accuracy: 1.0000 - val_loss: 0.0115\n",
            "Epoch 16/100\n",
            "\u001b[1m29/29\u001b[0m \u001b[32m━━━━━━━━━━━━━━━━━━━━\u001b[0m\u001b[37m\u001b[0m \u001b[1m0s\u001b[0m 8ms/step - accuracy: 0.9953 - loss: 0.0107 - val_accuracy: 1.0000 - val_loss: 0.0116\n",
            "Epoch 17/100\n",
            "\u001b[1m29/29\u001b[0m \u001b[32m━━━━━━━━━━━━━━━━━━━━\u001b[0m\u001b[37m\u001b[0m \u001b[1m0s\u001b[0m 8ms/step - accuracy: 0.9975 - loss: 0.0105 - val_accuracy: 1.0000 - val_loss: 0.0119\n",
            "Epoch 18/100\n",
            "\u001b[1m29/29\u001b[0m \u001b[32m━━━━━━━━━━━━━━━━━━━━\u001b[0m\u001b[37m\u001b[0m \u001b[1m0s\u001b[0m 7ms/step - accuracy: 0.9985 - loss: 0.0127 - val_accuracy: 1.0000 - val_loss: 0.0117\n",
            "Epoch 19/100\n",
            "\u001b[1m29/29\u001b[0m \u001b[32m━━━━━━━━━━━━━━━━━━━━\u001b[0m\u001b[37m\u001b[0m \u001b[1m0s\u001b[0m 8ms/step - accuracy: 0.9998 - loss: 0.0052 - val_accuracy: 1.0000 - val_loss: 0.0128\n",
            "Epoch 20/100\n",
            "\u001b[1m29/29\u001b[0m \u001b[32m━━━━━━━━━━━━━━━━━━━━\u001b[0m\u001b[37m\u001b[0m \u001b[1m0s\u001b[0m 7ms/step - accuracy: 1.0000 - loss: 0.0070 - val_accuracy: 1.0000 - val_loss: 0.0119\n",
            "Epoch 21/100\n",
            "\u001b[1m29/29\u001b[0m \u001b[32m━━━━━━━━━━━━━━━━━━━━\u001b[0m\u001b[37m\u001b[0m \u001b[1m0s\u001b[0m 7ms/step - accuracy: 0.9940 - loss: 0.0166 - val_accuracy: 1.0000 - val_loss: 0.0109\n",
            "Epoch 22/100\n",
            "\u001b[1m29/29\u001b[0m \u001b[32m━━━━━━━━━━━━━━━━━━━━\u001b[0m\u001b[37m\u001b[0m \u001b[1m0s\u001b[0m 7ms/step - accuracy: 0.9988 - loss: 0.0075 - val_accuracy: 1.0000 - val_loss: 0.0109\n",
            "Epoch 23/100\n",
            "\u001b[1m29/29\u001b[0m \u001b[32m━━━━━━━━━━━━━━━━━━━━\u001b[0m\u001b[37m\u001b[0m \u001b[1m0s\u001b[0m 8ms/step - accuracy: 0.9995 - loss: 0.0088 - val_accuracy: 1.0000 - val_loss: 0.0113\n",
            "Epoch 24/100\n",
            "\u001b[1m29/29\u001b[0m \u001b[32m━━━━━━━━━━━━━━━━━━━━\u001b[0m\u001b[37m\u001b[0m \u001b[1m0s\u001b[0m 7ms/step - accuracy: 1.0000 - loss: 0.0077 - val_accuracy: 1.0000 - val_loss: 0.0121\n",
            "Epoch 25/100\n",
            "\u001b[1m29/29\u001b[0m \u001b[32m━━━━━━━━━━━━━━━━━━━━\u001b[0m\u001b[37m\u001b[0m \u001b[1m0s\u001b[0m 7ms/step - accuracy: 0.9985 - loss: 0.0097 - val_accuracy: 1.0000 - val_loss: 0.0108\n",
            "Epoch 26/100\n",
            "\u001b[1m29/29\u001b[0m \u001b[32m━━━━━━━━━━━━━━━━━━━━\u001b[0m\u001b[37m\u001b[0m \u001b[1m0s\u001b[0m 7ms/step - accuracy: 0.9988 - loss: 0.0076 - val_accuracy: 1.0000 - val_loss: 0.0113\n",
            "Epoch 27/100\n",
            "\u001b[1m29/29\u001b[0m \u001b[32m━━━━━━━━━━━━━━━━━━━━\u001b[0m\u001b[37m\u001b[0m \u001b[1m0s\u001b[0m 7ms/step - accuracy: 0.9964 - loss: 0.0074 - val_accuracy: 1.0000 - val_loss: 0.0106\n",
            "Epoch 28/100\n",
            "\u001b[1m29/29\u001b[0m \u001b[32m━━━━━━━━━━━━━━━━━━━━\u001b[0m\u001b[37m\u001b[0m \u001b[1m0s\u001b[0m 7ms/step - accuracy: 0.9978 - loss: 0.0063 - val_accuracy: 1.0000 - val_loss: 0.0105\n",
            "Epoch 29/100\n",
            "\u001b[1m29/29\u001b[0m \u001b[32m━━━━━━━━━━━━━━━━━━━━\u001b[0m\u001b[37m\u001b[0m \u001b[1m0s\u001b[0m 6ms/step - accuracy: 0.9991 - loss: 0.0095 - val_accuracy: 1.0000 - val_loss: 0.0106\n",
            "Epoch 30/100\n",
            "\u001b[1m29/29\u001b[0m \u001b[32m━━━━━━━━━━━━━━━━━━━━\u001b[0m\u001b[37m\u001b[0m \u001b[1m0s\u001b[0m 8ms/step - accuracy: 0.9996 - loss: 0.0080 - val_accuracy: 1.0000 - val_loss: 0.0118\n",
            "Epoch 31/100\n",
            "\u001b[1m29/29\u001b[0m \u001b[32m━━━━━━━━━━━━━━━━━━━━\u001b[0m\u001b[37m\u001b[0m \u001b[1m0s\u001b[0m 8ms/step - accuracy: 0.9983 - loss: 0.0078 - val_accuracy: 1.0000 - val_loss: 0.0110\n",
            "Epoch 32/100\n",
            "\u001b[1m29/29\u001b[0m \u001b[32m━━━━━━━━━━━━━━━━━━━━\u001b[0m\u001b[37m\u001b[0m \u001b[1m0s\u001b[0m 8ms/step - accuracy: 1.0000 - loss: 0.0080 - val_accuracy: 1.0000 - val_loss: 0.0103\n",
            "Epoch 33/100\n",
            "\u001b[1m29/29\u001b[0m \u001b[32m━━━━━━━━━━━━━━━━━━━━\u001b[0m\u001b[37m\u001b[0m \u001b[1m0s\u001b[0m 9ms/step - accuracy: 0.9996 - loss: 0.0074 - val_accuracy: 1.0000 - val_loss: 0.0108\n",
            "Epoch 34/100\n",
            "\u001b[1m29/29\u001b[0m \u001b[32m━━━━━━━━━━━━━━━━━━━━\u001b[0m\u001b[37m\u001b[0m \u001b[1m0s\u001b[0m 14ms/step - accuracy: 0.9988 - loss: 0.0096 - val_accuracy: 1.0000 - val_loss: 0.0102\n",
            "Epoch 35/100\n",
            "\u001b[1m29/29\u001b[0m \u001b[32m━━━━━━━━━━━━━━━━━━━━\u001b[0m\u001b[37m\u001b[0m \u001b[1m0s\u001b[0m 9ms/step - accuracy: 1.0000 - loss: 0.0076 - val_accuracy: 1.0000 - val_loss: 0.0103\n",
            "Epoch 36/100\n",
            "\u001b[1m29/29\u001b[0m \u001b[32m━━━━━━━━━━━━━━━━━━━━\u001b[0m\u001b[37m\u001b[0m \u001b[1m1s\u001b[0m 14ms/step - accuracy: 0.9993 - loss: 0.0057 - val_accuracy: 1.0000 - val_loss: 0.0105\n",
            "Epoch 37/100\n",
            "\u001b[1m29/29\u001b[0m \u001b[32m━━━━━━━━━━━━━━━━━━━━\u001b[0m\u001b[37m\u001b[0m \u001b[1m0s\u001b[0m 10ms/step - accuracy: 1.0000 - loss: 0.0158 - val_accuracy: 1.0000 - val_loss: 0.0101\n",
            "Epoch 38/100\n",
            "\u001b[1m29/29\u001b[0m \u001b[32m━━━━━━━━━━━━━━━━━━━━\u001b[0m\u001b[37m\u001b[0m \u001b[1m1s\u001b[0m 8ms/step - accuracy: 0.9983 - loss: 0.0061 - val_accuracy: 1.0000 - val_loss: 0.0106\n",
            "Epoch 39/100\n",
            "\u001b[1m29/29\u001b[0m \u001b[32m━━━━━━━━━━━━━━━━━━━━\u001b[0m\u001b[37m\u001b[0m \u001b[1m0s\u001b[0m 7ms/step - accuracy: 1.0000 - loss: 0.0059 - val_accuracy: 1.0000 - val_loss: 0.0102\n",
            "Epoch 40/100\n",
            "\u001b[1m29/29\u001b[0m \u001b[32m━━━━━━━━━━━━━━━━━━━━\u001b[0m\u001b[37m\u001b[0m \u001b[1m0s\u001b[0m 8ms/step - accuracy: 1.0000 - loss: 0.0034 - val_accuracy: 1.0000 - val_loss: 0.0101\n",
            "Epoch 41/100\n",
            "\u001b[1m29/29\u001b[0m \u001b[32m━━━━━━━━━━━━━━━━━━━━\u001b[0m\u001b[37m\u001b[0m \u001b[1m0s\u001b[0m 7ms/step - accuracy: 0.9981 - loss: 0.0077 - val_accuracy: 1.0000 - val_loss: 0.0101\n",
            "Epoch 42/100\n",
            "\u001b[1m29/29\u001b[0m \u001b[32m━━━━━━━━━━━━━━━━━━━━\u001b[0m\u001b[37m\u001b[0m \u001b[1m0s\u001b[0m 7ms/step - accuracy: 1.0000 - loss: 0.0127 - val_accuracy: 1.0000 - val_loss: 0.0102\n",
            "Epoch 43/100\n",
            "\u001b[1m29/29\u001b[0m \u001b[32m━━━━━━━━━━━━━━━━━━━━\u001b[0m\u001b[37m\u001b[0m \u001b[1m0s\u001b[0m 8ms/step - accuracy: 1.0000 - loss: 0.0077 - val_accuracy: 1.0000 - val_loss: 0.0105\n",
            "Epoch 44/100\n",
            "\u001b[1m29/29\u001b[0m \u001b[32m━━━━━━━━━━━━━━━━━━━━\u001b[0m\u001b[37m\u001b[0m \u001b[1m0s\u001b[0m 8ms/step - accuracy: 1.0000 - loss: 0.0092 - val_accuracy: 1.0000 - val_loss: 0.0101\n",
            "Epoch 45/100\n",
            "\u001b[1m29/29\u001b[0m \u001b[32m━━━━━━━━━━━━━━━━━━━━\u001b[0m\u001b[37m\u001b[0m \u001b[1m0s\u001b[0m 8ms/step - accuracy: 1.0000 - loss: 0.0092 - val_accuracy: 1.0000 - val_loss: 0.0099\n",
            "Epoch 46/100\n",
            "\u001b[1m29/29\u001b[0m \u001b[32m━━━━━━━━━━━━━━━━━━━━\u001b[0m\u001b[37m\u001b[0m \u001b[1m0s\u001b[0m 6ms/step - accuracy: 0.9977 - loss: 0.0103 - val_accuracy: 1.0000 - val_loss: 0.0102\n",
            "Epoch 47/100\n",
            "\u001b[1m29/29\u001b[0m \u001b[32m━━━━━━━━━━━━━━━━━━━━\u001b[0m\u001b[37m\u001b[0m \u001b[1m0s\u001b[0m 7ms/step - accuracy: 1.0000 - loss: 0.0134 - val_accuracy: 1.0000 - val_loss: 0.0100\n",
            "Epoch 48/100\n",
            "\u001b[1m29/29\u001b[0m \u001b[32m━━━━━━━━━━━━━━━━━━━━\u001b[0m\u001b[37m\u001b[0m \u001b[1m0s\u001b[0m 7ms/step - accuracy: 0.9987 - loss: 0.0084 - val_accuracy: 1.0000 - val_loss: 0.0099\n",
            "Epoch 49/100\n",
            "\u001b[1m29/29\u001b[0m \u001b[32m━━━━━━━━━━━━━━━━━━━━\u001b[0m\u001b[37m\u001b[0m \u001b[1m0s\u001b[0m 7ms/step - accuracy: 1.0000 - loss: 0.0059 - val_accuracy: 1.0000 - val_loss: 0.0101\n",
            "Epoch 50/100\n",
            "\u001b[1m29/29\u001b[0m \u001b[32m━━━━━━━━━━━━━━━━━━━━\u001b[0m\u001b[37m\u001b[0m \u001b[1m0s\u001b[0m 7ms/step - accuracy: 1.0000 - loss: 0.0068 - val_accuracy: 1.0000 - val_loss: 0.0098\n",
            "Epoch 51/100\n",
            "\u001b[1m29/29\u001b[0m \u001b[32m━━━━━━━━━━━━━━━━━━━━\u001b[0m\u001b[37m\u001b[0m \u001b[1m0s\u001b[0m 7ms/step - accuracy: 1.0000 - loss: 0.0104 - val_accuracy: 1.0000 - val_loss: 0.0103\n",
            "Epoch 52/100\n",
            "\u001b[1m29/29\u001b[0m \u001b[32m━━━━━━━━━━━━━━━━━━━━\u001b[0m\u001b[37m\u001b[0m \u001b[1m0s\u001b[0m 7ms/step - accuracy: 1.0000 - loss: 0.0043 - val_accuracy: 1.0000 - val_loss: 0.0099\n",
            "Epoch 53/100\n",
            "\u001b[1m29/29\u001b[0m \u001b[32m━━━━━━━━━━━━━━━━━━━━\u001b[0m\u001b[37m\u001b[0m \u001b[1m0s\u001b[0m 7ms/step - accuracy: 1.0000 - loss: 0.0062 - val_accuracy: 1.0000 - val_loss: 0.0097\n",
            "Epoch 54/100\n",
            "\u001b[1m29/29\u001b[0m \u001b[32m━━━━━━━━━━━━━━━━━━━━\u001b[0m\u001b[37m\u001b[0m \u001b[1m0s\u001b[0m 6ms/step - accuracy: 1.0000 - loss: 0.0088 - val_accuracy: 1.0000 - val_loss: 0.0097\n",
            "Epoch 55/100\n",
            "\u001b[1m29/29\u001b[0m \u001b[32m━━━━━━━━━━━━━━━━━━━━\u001b[0m\u001b[37m\u001b[0m \u001b[1m0s\u001b[0m 6ms/step - accuracy: 1.0000 - loss: 0.0141 - val_accuracy: 1.0000 - val_loss: 0.0095\n",
            "Epoch 56/100\n",
            "\u001b[1m29/29\u001b[0m \u001b[32m━━━━━━━━━━━━━━━━━━━━\u001b[0m\u001b[37m\u001b[0m \u001b[1m0s\u001b[0m 7ms/step - accuracy: 1.0000 - loss: 0.0122 - val_accuracy: 1.0000 - val_loss: 0.0099\n",
            "Epoch 57/100\n",
            "\u001b[1m29/29\u001b[0m \u001b[32m━━━━━━━━━━━━━━━━━━━━\u001b[0m\u001b[37m\u001b[0m \u001b[1m0s\u001b[0m 7ms/step - accuracy: 1.0000 - loss: 0.0073 - val_accuracy: 1.0000 - val_loss: 0.0096\n",
            "Epoch 58/100\n",
            "\u001b[1m29/29\u001b[0m \u001b[32m━━━━━━━━━━━━━━━━━━━━\u001b[0m\u001b[37m\u001b[0m \u001b[1m0s\u001b[0m 6ms/step - accuracy: 1.0000 - loss: 0.0116 - val_accuracy: 1.0000 - val_loss: 0.0095\n",
            "Epoch 59/100\n",
            "\u001b[1m29/29\u001b[0m \u001b[32m━━━━━━━━━━━━━━━━━━━━\u001b[0m\u001b[37m\u001b[0m \u001b[1m0s\u001b[0m 7ms/step - accuracy: 1.0000 - loss: 0.0102 - val_accuracy: 1.0000 - val_loss: 0.0095\n",
            "Epoch 60/100\n",
            "\u001b[1m29/29\u001b[0m \u001b[32m━━━━━━━━━━━━━━━━━━━━\u001b[0m\u001b[37m\u001b[0m \u001b[1m0s\u001b[0m 7ms/step - accuracy: 1.0000 - loss: 0.0091 - val_accuracy: 1.0000 - val_loss: 0.0095\n",
            "Epoch 61/100\n",
            "\u001b[1m29/29\u001b[0m \u001b[32m━━━━━━━━━━━━━━━━━━━━\u001b[0m\u001b[37m\u001b[0m \u001b[1m0s\u001b[0m 7ms/step - accuracy: 1.0000 - loss: 0.0090 - val_accuracy: 1.0000 - val_loss: 0.0100\n",
            "Epoch 62/100\n",
            "\u001b[1m29/29\u001b[0m \u001b[32m━━━━━━━━━━━━━━━━━━━━\u001b[0m\u001b[37m\u001b[0m \u001b[1m0s\u001b[0m 8ms/step - accuracy: 1.0000 - loss: 0.0048 - val_accuracy: 1.0000 - val_loss: 0.0094\n",
            "Epoch 63/100\n",
            "\u001b[1m29/29\u001b[0m \u001b[32m━━━━━━━━━━━━━━━━━━━━\u001b[0m\u001b[37m\u001b[0m \u001b[1m0s\u001b[0m 7ms/step - accuracy: 1.0000 - loss: 0.0062 - val_accuracy: 1.0000 - val_loss: 0.0096\n",
            "Epoch 64/100\n",
            "\u001b[1m29/29\u001b[0m \u001b[32m━━━━━━━━━━━━━━━━━━━━\u001b[0m\u001b[37m\u001b[0m \u001b[1m0s\u001b[0m 7ms/step - accuracy: 1.0000 - loss: 0.0101 - val_accuracy: 1.0000 - val_loss: 0.0092\n",
            "Epoch 65/100\n",
            "\u001b[1m29/29\u001b[0m \u001b[32m━━━━━━━━━━━━━━━━━━━━\u001b[0m\u001b[37m\u001b[0m \u001b[1m0s\u001b[0m 7ms/step - accuracy: 1.0000 - loss: 0.0064 - val_accuracy: 1.0000 - val_loss: 0.0094\n",
            "Epoch 66/100\n",
            "\u001b[1m29/29\u001b[0m \u001b[32m━━━━━━━━━━━━━━━━━━━━\u001b[0m\u001b[37m\u001b[0m \u001b[1m0s\u001b[0m 8ms/step - accuracy: 0.9983 - loss: 0.0067 - val_accuracy: 1.0000 - val_loss: 0.0096\n",
            "Epoch 67/100\n",
            "\u001b[1m29/29\u001b[0m \u001b[32m━━━━━━━━━━━━━━━━━━━━\u001b[0m\u001b[37m\u001b[0m \u001b[1m0s\u001b[0m 7ms/step - accuracy: 1.0000 - loss: 0.0061 - val_accuracy: 1.0000 - val_loss: 0.0092\n",
            "Epoch 68/100\n",
            "\u001b[1m29/29\u001b[0m \u001b[32m━━━━━━━━━━━━━━━━━━━━\u001b[0m\u001b[37m\u001b[0m \u001b[1m0s\u001b[0m 7ms/step - accuracy: 1.0000 - loss: 0.0135 - val_accuracy: 1.0000 - val_loss: 0.0093\n",
            "Epoch 69/100\n",
            "\u001b[1m29/29\u001b[0m \u001b[32m━━━━━━━━━━━━━━━━━━━━\u001b[0m\u001b[37m\u001b[0m \u001b[1m0s\u001b[0m 8ms/step - accuracy: 1.0000 - loss: 0.0111 - val_accuracy: 1.0000 - val_loss: 0.0097\n",
            "Epoch 70/100\n",
            "\u001b[1m29/29\u001b[0m \u001b[32m━━━━━━━━━━━━━━━━━━━━\u001b[0m\u001b[37m\u001b[0m \u001b[1m0s\u001b[0m 7ms/step - accuracy: 1.0000 - loss: 0.0046 - val_accuracy: 1.0000 - val_loss: 0.0094\n",
            "Epoch 71/100\n",
            "\u001b[1m29/29\u001b[0m \u001b[32m━━━━━━━━━━━━━━━━━━━━\u001b[0m\u001b[37m\u001b[0m \u001b[1m0s\u001b[0m 7ms/step - accuracy: 1.0000 - loss: 0.0052 - val_accuracy: 1.0000 - val_loss: 0.0093\n",
            "Epoch 72/100\n",
            "\u001b[1m29/29\u001b[0m \u001b[32m━━━━━━━━━━━━━━━━━━━━\u001b[0m\u001b[37m\u001b[0m \u001b[1m0s\u001b[0m 8ms/step - accuracy: 1.0000 - loss: 0.0062 - val_accuracy: 1.0000 - val_loss: 0.0091\n",
            "Epoch 73/100\n",
            "\u001b[1m29/29\u001b[0m \u001b[32m━━━━━━━━━━━━━━━━━━━━\u001b[0m\u001b[37m\u001b[0m \u001b[1m0s\u001b[0m 11ms/step - accuracy: 1.0000 - loss: 0.0087 - val_accuracy: 1.0000 - val_loss: 0.0097\n",
            "Epoch 74/100\n",
            "\u001b[1m29/29\u001b[0m \u001b[32m━━━━━━━━━━━━━━━━━━━━\u001b[0m\u001b[37m\u001b[0m \u001b[1m1s\u001b[0m 10ms/step - accuracy: 1.0000 - loss: 0.0070 - val_accuracy: 1.0000 - val_loss: 0.0092\n",
            "Epoch 75/100\n",
            "\u001b[1m29/29\u001b[0m \u001b[32m━━━━━━━━━━━━━━━━━━━━\u001b[0m\u001b[37m\u001b[0m \u001b[1m1s\u001b[0m 11ms/step - accuracy: 1.0000 - loss: 0.0054 - val_accuracy: 1.0000 - val_loss: 0.0092\n",
            "Epoch 76/100\n",
            "\u001b[1m29/29\u001b[0m \u001b[32m━━━━━━━━━━━━━━━━━━━━\u001b[0m\u001b[37m\u001b[0m \u001b[1m1s\u001b[0m 9ms/step - accuracy: 1.0000 - loss: 0.0070 - val_accuracy: 1.0000 - val_loss: 0.0092\n",
            "Epoch 77/100\n",
            "\u001b[1m29/29\u001b[0m \u001b[32m━━━━━━━━━━━━━━━━━━━━\u001b[0m\u001b[37m\u001b[0m \u001b[1m0s\u001b[0m 8ms/step - accuracy: 1.0000 - loss: 0.0089 - val_accuracy: 1.0000 - val_loss: 0.0091\n",
            "Epoch 78/100\n",
            "\u001b[1m29/29\u001b[0m \u001b[32m━━━━━━━━━━━━━━━━━━━━\u001b[0m\u001b[37m\u001b[0m \u001b[1m0s\u001b[0m 8ms/step - accuracy: 1.0000 - loss: 0.0088 - val_accuracy: 1.0000 - val_loss: 0.0091\n",
            "Epoch 79/100\n",
            "\u001b[1m29/29\u001b[0m \u001b[32m━━━━━━━━━━━━━━━━━━━━\u001b[0m\u001b[37m\u001b[0m \u001b[1m0s\u001b[0m 7ms/step - accuracy: 1.0000 - loss: 0.0046 - val_accuracy: 1.0000 - val_loss: 0.0096\n",
            "Epoch 80/100\n",
            "\u001b[1m29/29\u001b[0m \u001b[32m━━━━━━━━━━━━━━━━━━━━\u001b[0m\u001b[37m\u001b[0m \u001b[1m0s\u001b[0m 7ms/step - accuracy: 1.0000 - loss: 0.0066 - val_accuracy: 1.0000 - val_loss: 0.0091\n",
            "Epoch 81/100\n",
            "\u001b[1m29/29\u001b[0m \u001b[32m━━━━━━━━━━━━━━━━━━━━\u001b[0m\u001b[37m\u001b[0m \u001b[1m0s\u001b[0m 8ms/step - accuracy: 1.0000 - loss: 0.0075 - val_accuracy: 1.0000 - val_loss: 0.0092\n",
            "Epoch 82/100\n",
            "\u001b[1m29/29\u001b[0m \u001b[32m━━━━━━━━━━━━━━━━━━━━\u001b[0m\u001b[37m\u001b[0m \u001b[1m0s\u001b[0m 7ms/step - accuracy: 1.0000 - loss: 0.0111 - val_accuracy: 1.0000 - val_loss: 0.0091\n",
            "Epoch 83/100\n",
            "\u001b[1m29/29\u001b[0m \u001b[32m━━━━━━━━━━━━━━━━━━━━\u001b[0m\u001b[37m\u001b[0m \u001b[1m0s\u001b[0m 8ms/step - accuracy: 1.0000 - loss: 0.0083 - val_accuracy: 1.0000 - val_loss: 0.0091\n",
            "Epoch 84/100\n",
            "\u001b[1m29/29\u001b[0m \u001b[32m━━━━━━━━━━━━━━━━━━━━\u001b[0m\u001b[37m\u001b[0m \u001b[1m0s\u001b[0m 6ms/step - accuracy: 1.0000 - loss: 0.0082 - val_accuracy: 1.0000 - val_loss: 0.0091\n",
            "Epoch 85/100\n",
            "\u001b[1m29/29\u001b[0m \u001b[32m━━━━━━━━━━━━━━━━━━━━\u001b[0m\u001b[37m\u001b[0m \u001b[1m0s\u001b[0m 7ms/step - accuracy: 1.0000 - loss: 0.0121 - val_accuracy: 1.0000 - val_loss: 0.0091\n",
            "Epoch 86/100\n",
            "\u001b[1m29/29\u001b[0m \u001b[32m━━━━━━━━━━━━━━━━━━━━\u001b[0m\u001b[37m\u001b[0m \u001b[1m0s\u001b[0m 7ms/step - accuracy: 1.0000 - loss: 0.0093 - val_accuracy: 1.0000 - val_loss: 0.0091\n",
            "Epoch 87/100\n",
            "\u001b[1m29/29\u001b[0m \u001b[32m━━━━━━━━━━━━━━━━━━━━\u001b[0m\u001b[37m\u001b[0m \u001b[1m0s\u001b[0m 8ms/step - accuracy: 1.0000 - loss: 0.0045 - val_accuracy: 1.0000 - val_loss: 0.0093\n",
            "Epoch 88/100\n",
            "\u001b[1m29/29\u001b[0m \u001b[32m━━━━━━━━━━━━━━━━━━━━\u001b[0m\u001b[37m\u001b[0m \u001b[1m0s\u001b[0m 7ms/step - accuracy: 1.0000 - loss: 0.0068 - val_accuracy: 1.0000 - val_loss: 0.0091\n",
            "Epoch 89/100\n",
            "\u001b[1m29/29\u001b[0m \u001b[32m━━━━━━━━━━━━━━━━━━━━\u001b[0m\u001b[37m\u001b[0m \u001b[1m0s\u001b[0m 7ms/step - accuracy: 1.0000 - loss: 0.0060 - val_accuracy: 1.0000 - val_loss: 0.0090\n",
            "Epoch 90/100\n",
            "\u001b[1m29/29\u001b[0m \u001b[32m━━━━━━━━━━━━━━━━━━━━\u001b[0m\u001b[37m\u001b[0m \u001b[1m0s\u001b[0m 7ms/step - accuracy: 1.0000 - loss: 0.0056 - val_accuracy: 1.0000 - val_loss: 0.0091\n",
            "Epoch 91/100\n",
            "\u001b[1m29/29\u001b[0m \u001b[32m━━━━━━━━━━━━━━━━━━━━\u001b[0m\u001b[37m\u001b[0m \u001b[1m0s\u001b[0m 9ms/step - accuracy: 1.0000 - loss: 0.0110 - val_accuracy: 1.0000 - val_loss: 0.0091\n",
            "Epoch 92/100\n",
            "\u001b[1m29/29\u001b[0m \u001b[32m━━━━━━━━━━━━━━━━━━━━\u001b[0m\u001b[37m\u001b[0m \u001b[1m0s\u001b[0m 8ms/step - accuracy: 1.0000 - loss: 0.0113 - val_accuracy: 1.0000 - val_loss: 0.0089\n",
            "Epoch 93/100\n",
            "\u001b[1m29/29\u001b[0m \u001b[32m━━━━━━━━━━━━━━━━━━━━\u001b[0m\u001b[37m\u001b[0m \u001b[1m0s\u001b[0m 7ms/step - accuracy: 1.0000 - loss: 0.0087 - val_accuracy: 1.0000 - val_loss: 0.0090\n",
            "Epoch 94/100\n",
            "\u001b[1m29/29\u001b[0m \u001b[32m━━━━━━━━━━━━━━━━━━━━\u001b[0m\u001b[37m\u001b[0m \u001b[1m0s\u001b[0m 7ms/step - accuracy: 1.0000 - loss: 0.0082 - val_accuracy: 1.0000 - val_loss: 0.0090\n",
            "Epoch 95/100\n",
            "\u001b[1m29/29\u001b[0m \u001b[32m━━━━━━━━━━━━━━━━━━━━\u001b[0m\u001b[37m\u001b[0m \u001b[1m0s\u001b[0m 9ms/step - accuracy: 1.0000 - loss: 0.0104 - val_accuracy: 1.0000 - val_loss: 0.0090\n",
            "Epoch 96/100\n",
            "\u001b[1m29/29\u001b[0m \u001b[32m━━━━━━━━━━━━━━━━━━━━\u001b[0m\u001b[37m\u001b[0m \u001b[1m0s\u001b[0m 7ms/step - accuracy: 1.0000 - loss: 0.0053 - val_accuracy: 1.0000 - val_loss: 0.0090\n",
            "Epoch 97/100\n",
            "\u001b[1m29/29\u001b[0m \u001b[32m━━━━━━━━━━━━━━━━━━━━\u001b[0m\u001b[37m\u001b[0m \u001b[1m0s\u001b[0m 7ms/step - accuracy: 1.0000 - loss: 0.0096 - val_accuracy: 1.0000 - val_loss: 0.0091\n",
            "Epoch 98/100\n",
            "\u001b[1m29/29\u001b[0m \u001b[32m━━━━━━━━━━━━━━━━━━━━\u001b[0m\u001b[37m\u001b[0m \u001b[1m0s\u001b[0m 9ms/step - accuracy: 1.0000 - loss: 0.0077 - val_accuracy: 1.0000 - val_loss: 0.0090\n",
            "Epoch 99/100\n",
            "\u001b[1m29/29\u001b[0m \u001b[32m━━━━━━━━━━━━━━━━━━━━\u001b[0m\u001b[37m\u001b[0m \u001b[1m0s\u001b[0m 8ms/step - accuracy: 1.0000 - loss: 0.0071 - val_accuracy: 1.0000 - val_loss: 0.0090\n",
            "Epoch 100/100\n",
            "\u001b[1m29/29\u001b[0m \u001b[32m━━━━━━━━━━━━━━━━━━━━\u001b[0m\u001b[37m\u001b[0m \u001b[1m0s\u001b[0m 7ms/step - accuracy: 1.0000 - loss: 0.0038 - val_accuracy: 1.0000 - val_loss: 0.0090\n"
          ]
        },
        {
          "output_type": "display_data",
          "data": {
            "text/plain": [
              "<Figure size 640x480 with 1 Axes>"
            ],
            "image/png": "[encoded data removed]"
          },
          "metadata": {}
        }
      ]
    },
    {
      "cell_type": "code",
      "execution_count": 19,
      "metadata": {
        "id": "KFVn8iU6r_aM",
        "colab": {
          "base_uri": "https://localhost:8080/",
          "height": 512
        },
        "outputId": "129c3766-7043-49e2-8ac9-489cb74f1a29"
      },
      "outputs": [
        {
          "output_type": "error",
          "ename": "FileNotFoundError",
          "evalue": "[Errno 2] Unable to synchronously open file (unable to open file: name = 'model_weights_of_cooling.h5', errno = 2, error message = 'No such file or directory', flags = 0, o_flags = 0)",
          "traceback": [
            "\u001b[0;31m---------------------------------------------------------------------------\u001b[0m",
            "\u001b[0;31mFileNotFoundError\u001b[0m                         Traceback (most recent call last)",
            "\u001b[0;32m<ipython-input-19-3920aa6c1b66>\u001b[0m in \u001b[0;36m<cell line: 0>\u001b[0;34m()\u001b[0m\n\u001b[1;32m      1\u001b[0m \u001b[0;31m# Predict on test data\u001b[0m\u001b[0;34m\u001b[0m\u001b[0;34m\u001b[0m\u001b[0m\n\u001b[0;32m----> 2\u001b[0;31m \u001b[0mann\u001b[0m\u001b[0;34m=\u001b[0m\u001b[0mtf\u001b[0m\u001b[0;34m.\u001b[0m\u001b[0mkeras\u001b[0m\u001b[0;34m.\u001b[0m\u001b[0mmodels\u001b[0m\u001b[0;34m.\u001b[0m\u001b[0mload_model\u001b[0m\u001b[0;34m(\u001b[0m\u001b[0;34m'model_weights_of_cooling.h5'\u001b[0m\u001b[0;34m)\u001b[0m\u001b[0;34m\u001b[0m\u001b[0;34m\u001b[0m\u001b[0m\n\u001b[0m\u001b[1;32m      3\u001b[0m \u001b[0my_pred\u001b[0m \u001b[0;34m=\u001b[0m \u001b[0mann\u001b[0m\u001b[0;34m.\u001b[0m\u001b[0mpredict\u001b[0m\u001b[0;34m(\u001b[0m\u001b[0msc\u001b[0m\u001b[0;34m.\u001b[0m\u001b[0mtransform\u001b[0m\u001b[0;34m(\u001b[0m\u001b[0;34m[\u001b[0m\u001b[0;34m[\u001b[0m\u001b[0;36m1\u001b[0m\u001b[0;34m,\u001b[0m\u001b[0;36m40\u001b[0m\u001b[0;34m,\u001b[0m\u001b[0;36m40\u001b[0m\u001b[0;34m,\u001b[0m\u001b[0;36m40\u001b[0m\u001b[0;34m,\u001b[0m\u001b[0;36m33\u001b[0m\u001b[0;34m]\u001b[0m\u001b[0;34m]\u001b[0m\u001b[0;34m)\u001b[0m\u001b[0;34m)\u001b[0m\u001b[0;34m\u001b[0m\u001b[0;34m\u001b[0m\u001b[0m\n\u001b[1;32m      4\u001b[0m \u001b[0mpredicted_classes\u001b[0m \u001b[0;34m=\u001b[0m \u001b[0mnp\u001b[0m\u001b[0;34m.\u001b[0m\u001b[0margmax\u001b[0m\u001b[0;34m(\u001b[0m\u001b[0my_pred\u001b[0m\u001b[0;34m,\u001b[0m \u001b[0maxis\u001b[0m\u001b[0;34m=\u001b[0m\u001b[0;36m1\u001b[0m\u001b[0;34m)\u001b[0m\u001b[0;34m\u001b[0m\u001b[0;34m\u001b[0m\u001b[0m\n\u001b[1;32m      5\u001b[0m \u001b[0mprint\u001b[0m\u001b[0;34m(\u001b[0m\u001b[0;34m\"Predicted classes:\"\u001b[0m\u001b[0;34m)\u001b[0m\u001b[0;34m\u001b[0m\u001b[0;34m\u001b[0m\u001b[0m\n",
            "\u001b[0;32m/usr/local/lib/python3.11/dist-packages/keras/src/saving/saving_api.py\u001b[0m in \u001b[0;36mload_model\u001b[0;34m(filepath, custom_objects, compile, safe_mode)\u001b[0m\n\u001b[1;32m    194\u001b[0m         )\n\u001b[1;32m    195\u001b[0m     \u001b[0;32mif\u001b[0m \u001b[0mstr\u001b[0m\u001b[0;34m(\u001b[0m\u001b[0mfilepath\u001b[0m\u001b[0;34m)\u001b[0m\u001b[0;34m.\u001b[0m\u001b[0mendswith\u001b[0m\u001b[0;34m(\u001b[0m\u001b[0;34m(\u001b[0m\u001b[0;34m\".h5\"\u001b[0m\u001b[0;34m,\u001b[0m \u001b[0;34m\".hdf5\"\u001b[0m\u001b[0;34m)\u001b[0m\u001b[0;34m)\u001b[0m\u001b[0;34m:\u001b[0m\u001b[0;34m\u001b[0m\u001b[0;34m\u001b[0m\u001b[0m\n\u001b[0;32m--> 196\u001b[0;31m         return legacy_h5_format.load_model_from_hdf5(\n\u001b[0m\u001b[1;32m    197\u001b[0m             \u001b[0mfilepath\u001b[0m\u001b[0;34m,\u001b[0m \u001b[0mcustom_objects\u001b[0m\u001b[0;34m=\u001b[0m\u001b[0mcustom_objects\u001b[0m\u001b[0;34m,\u001b[0m \u001b[0mcompile\u001b[0m\u001b[0;34m=\u001b[0m\u001b[0mcompile\u001b[0m\u001b[0;34m\u001b[0m\u001b[0;34m\u001b[0m\u001b[0m\n\u001b[1;32m    198\u001b[0m         )\n",
            "\u001b[0;32m/usr/local/lib/python3.11/dist-packages/keras/src/legacy/saving/legacy_h5_format.py\u001b[0m in \u001b[0;36mload_model_from_hdf5\u001b[0;34m(filepath, custom_objects, compile)\u001b[0m\n\u001b[1;32m    114\u001b[0m     \u001b[0mopened_new_file\u001b[0m \u001b[0;34m=\u001b[0m \u001b[0;32mnot\u001b[0m \u001b[0misinstance\u001b[0m\u001b[0;34m(\u001b[0m\u001b[0mfilepath\u001b[0m\u001b[0;34m,\u001b[0m \u001b[0mh5py\u001b[0m\u001b[0;34m.\u001b[0m\u001b[0mFile\u001b[0m\u001b[0;34m)\u001b[0m\u001b[0;34m\u001b[0m\u001b[0;34m\u001b[0m\u001b[0m\n\u001b[1;32m    115\u001b[0m     \u001b[0;32mif\u001b[0m \u001b[0mopened_new_file\u001b[0m\u001b[0;34m:\u001b[0m\u001b[0;34m\u001b[0m\u001b[0;34m\u001b[0m\u001b[0m\n\u001b[0;32m--> 116\u001b[0;31m         \u001b[0mf\u001b[0m \u001b[0;34m=\u001b[0m \u001b[0mh5py\u001b[0m\u001b[0;34m.\u001b[0m\u001b[0mFile\u001b[0m\u001b[0;34m(\u001b[0m\u001b[0mfilepath\u001b[0m\u001b[0;34m,\u001b[0m \u001b[0mmode\u001b[0m\u001b[0;34m=\u001b[0m\u001b[0;34m\"r\"\u001b[0m\u001b[0;34m)\u001b[0m\u001b[0;34m\u001b[0m\u001b[0;34m\u001b[0m\u001b[0m\n\u001b[0m\u001b[1;32m    117\u001b[0m     \u001b[0;32melse\u001b[0m\u001b[0;34m:\u001b[0m\u001b[0;34m\u001b[0m\u001b[0;34m\u001b[0m\u001b[0m\n\u001b[1;32m    118\u001b[0m         \u001b[0mf\u001b[0m \u001b[0;34m=\u001b[0m \u001b[0mfilepath\u001b[0m\u001b[0;34m\u001b[0m\u001b[0;34m\u001b[0m\u001b[0m\n",
            "\u001b[0;32m/usr/local/lib/python3.11/dist-packages/h5py/_hl/files.py\u001b[0m in \u001b[0;36m__init__\u001b[0;34m(self, name, mode, driver, libver, userblock_size, swmr, rdcc_nslots, rdcc_nbytes, rdcc_w0, track_order, fs_strategy, fs_persist, fs_threshold, fs_page_size, page_buf_size, min_meta_keep, min_raw_keep, locking, alignment_threshold, alignment_interval, meta_block_size, **kwds)\u001b[0m\n\u001b[1;32m    562\u001b[0m                                  \u001b[0mfs_persist\u001b[0m\u001b[0;34m=\u001b[0m\u001b[0mfs_persist\u001b[0m\u001b[0;34m,\u001b[0m \u001b[0mfs_threshold\u001b[0m\u001b[0;34m=\u001b[0m\u001b[0mfs_threshold\u001b[0m\u001b[0;34m,\u001b[0m\u001b[0;34m\u001b[0m\u001b[0;34m\u001b[0m\u001b[0m\n\u001b[1;32m    563\u001b[0m                                  fs_page_size=fs_page_size)\n\u001b[0;32m--> 564\u001b[0;31m                 \u001b[0mfid\u001b[0m \u001b[0;34m=\u001b[0m \u001b[0mmake_fid\u001b[0m\u001b[0;34m(\u001b[0m\u001b[0mname\u001b[0m\u001b[0;34m,\u001b[0m \u001b[0mmode\u001b[0m\u001b[0;34m,\u001b[0m \u001b[0muserblock_size\u001b[0m\u001b[0;34m,\u001b[0m \u001b[0mfapl\u001b[0m\u001b[0;34m,\u001b[0m \u001b[0mfcpl\u001b[0m\u001b[0;34m,\u001b[0m \u001b[0mswmr\u001b[0m\u001b[0;34m=\u001b[0m\u001b[0mswmr\u001b[0m\u001b[0;34m)\u001b[0m\u001b[0;34m\u001b[0m\u001b[0;34m\u001b[0m\u001b[0m\n\u001b[0m\u001b[1;32m    565\u001b[0m \u001b[0;34m\u001b[0m\u001b[0m\n\u001b[1;32m    566\u001b[0m             \u001b[0;32mif\u001b[0m \u001b[0misinstance\u001b[0m\u001b[0;34m(\u001b[0m\u001b[0mlibver\u001b[0m\u001b[0;34m,\u001b[0m \u001b[0mtuple\u001b[0m\u001b[0;34m)\u001b[0m\u001b[0;34m:\u001b[0m\u001b[0;34m\u001b[0m\u001b[0;34m\u001b[0m\u001b[0m\n",
            "\u001b[0;32m/usr/local/lib/python3.11/dist-packages/h5py/_hl/files.py\u001b[0m in \u001b[0;36mmake_fid\u001b[0;34m(name, mode, userblock_size, fapl, fcpl, swmr)\u001b[0m\n\u001b[1;32m    236\u001b[0m         \u001b[0;32mif\u001b[0m \u001b[0mswmr\u001b[0m \u001b[0;32mand\u001b[0m \u001b[0mswmr_support\u001b[0m\u001b[0;34m:\u001b[0m\u001b[0;34m\u001b[0m\u001b[0;34m\u001b[0m\u001b[0m\n\u001b[1;32m    237\u001b[0m             \u001b[0mflags\u001b[0m \u001b[0;34m|=\u001b[0m \u001b[0mh5f\u001b[0m\u001b[0;34m.\u001b[0m\u001b[0mACC_SWMR_READ\u001b[0m\u001b[0;34m\u001b[0m\u001b[0;34m\u001b[0m\u001b[0m\n\u001b[0;32m--> 238\u001b[0;31m         \u001b[0mfid\u001b[0m \u001b[0;34m=\u001b[0m \u001b[0mh5f\u001b[0m\u001b[0;34m.\u001b[0m\u001b[0mopen\u001b[0m\u001b[0;34m(\u001b[0m\u001b[0mname\u001b[0m\u001b[0;34m,\u001b[0m \u001b[0mflags\u001b[0m\u001b[0;34m,\u001b[0m \u001b[0mfapl\u001b[0m\u001b[0;34m=\u001b[0m\u001b[0mfapl\u001b[0m\u001b[0;34m)\u001b[0m\u001b[0;34m\u001b[0m\u001b[0;34m\u001b[0m\u001b[0m\n\u001b[0m\u001b[1;32m    239\u001b[0m     \u001b[0;32melif\u001b[0m \u001b[0mmode\u001b[0m \u001b[0;34m==\u001b[0m \u001b[0;34m'r+'\u001b[0m\u001b[0;34m:\u001b[0m\u001b[0;34m\u001b[0m\u001b[0;34m\u001b[0m\u001b[0m\n\u001b[1;32m    240\u001b[0m         \u001b[0mfid\u001b[0m \u001b[0;34m=\u001b[0m \u001b[0mh5f\u001b[0m\u001b[0;34m.\u001b[0m\u001b[0mopen\u001b[0m\u001b[0;34m(\u001b[0m\u001b[0mname\u001b[0m\u001b[0;34m,\u001b[0m \u001b[0mh5f\u001b[0m\u001b[0;34m.\u001b[0m\u001b[0mACC_RDWR\u001b[0m\u001b[0;34m,\u001b[0m \u001b[0mfapl\u001b[0m\u001b[0;34m=\u001b[0m\u001b[0mfapl\u001b[0m\u001b[0;34m)\u001b[0m\u001b[0;34m\u001b[0m\u001b[0;34m\u001b[0m\u001b[0m\n",
            "\u001b[0;32mh5py/_objects.pyx\u001b[0m in \u001b[0;36mh5py._objects.with_phil.wrapper\u001b[0;34m()\u001b[0m\n",
            "\u001b[0;32mh5py/_objects.pyx\u001b[0m in \u001b[0;36mh5py._objects.with_phil.wrapper\u001b[0;34m()\u001b[0m\n",
            "\u001b[0;32mh5py/h5f.pyx\u001b[0m in \u001b[0;36mh5py.h5f.open\u001b[0;34m()\u001b[0m\n",
            "\u001b[0;31mFileNotFoundError\u001b[0m: [Errno 2] Unable to synchronously open file (unable to open file: name = 'model_weights_of_cooling.h5', errno = 2, error message = 'No such file or directory', flags = 0, o_flags = 0)"
          ]
        }
      ],
      "source": [
        "# Predict on test data\n",
        "ann=tf.keras.models.load_model('model_weights_of_cooling.h5')\n",
        "y_pred = ann.predict(sc.transform([[1,40,40,40,33]]))\n",
        "predicted_classes = np.argmax(y_pred, axis=1)\n",
        "print(\"Predicted classes:\")\n",
        "print(predicted_classes)\n",
        "\n",
        "# Convert predicted classes to one-hot encoding using the number of classes (9)\n",
        "predicted_one_hot = np.eye(2)[predicted_classes]\n",
        "print(\"Predicted one-hot encoding:\")\n",
        "print(predicted_one_hot)\n",
        "\n",
        "# Access the fitted OneHotEncoder from your ColumnTransformer\n",
        "encoder = ct.named_transformers_['encoder']\n",
        "\n",
        "\n",
        "# Inverse transform the one-hot encoded predictions back to original labels\n",
        "original_predictions = encoder.inverse_transform(predicted_one_hot)\n",
        "print(\"Original labels from inverse transform:\")\n",
        "print(original_predictions)\n",
        "print(\"Original labels from inverse transform:\")\n",
        "original_predictions = encoder.inverse_transform(y_test)\n",
        "print(original_predictions)"
      ]
    },
    {
      "cell_type": "markdown",
      "metadata": {
        "id": "p-dgmHRJozLH"
      },
      "source": [
        "Build_Model_2"
      ]
    },
    {
      "cell_type": "code",
      "execution_count": null,
      "metadata": {
        "id": "BnM1Qe0SDiPc"
      },
      "outputs": [],
      "source": [
        "ann.evaluate(x_train,y_train)"
      ]
    },
    {
      "cell_type": "code",
      "source": [
        "ann.evaluate(x_test,y_test)"
      ],
      "metadata": {
        "id": "2wRZApj7FFTb"
      },
      "execution_count": null,
      "outputs": []
    },
    {
      "cell_type": "code",
      "source": [
        "from tensorflow.keras.models import Sequential\n",
        "from tensorflow.keras.layers import Dense, Dropout\n",
        "from tensorflow.keras.optimizers.schedules import ExponentialDecay\n",
        "from tensorflow.keras.optimizers import Adam\n",
        "from tensorflow.keras.callbacks import EarlyStopping\n",
        "\n",
        "# Define the model\n",
        "ann = Sequential([\n",
        "    Dense(128, activation='relu', input_shape=(5,)),  # Adjust input_shape to match x_train\n",
        "    Dropout(0.3),  # Dropout with 30% rate\n",
        "    Dense(64, activation='relu'),\n",
        "    Dropout(0.3),\n",
        "    Dense(32, activation='relu'),\n",
        "    Dense(2, activation='softmax')  # Output layer (assuming 2 classes)\n",
        "])\n",
        "\n",
        "# Learning rate decay\n",
        "lr_schedule = ExponentialDecay(initial_learning_rate=0.01, decay_steps=100, decay_rate=0.9)\n",
        "\n",
        "# Compile the model\n",
        "ann.compile(optimizer=Adam(learning_rate=lr_schedule),\n",
        "            loss='categorical_crossentropy',\n",
        "            metrics=['accuracy'])\n",
        "\n",
        "# Early stopping to prevent overfitting\n",
        "\n",
        "\n",
        "# Train the model\n",
        "ann.fit(x_train, y_train, batch_size=10, epochs=128, validation_data=(x_test, y_test))\n",
        "\n",
        "# Evaluate the model\n",
        "ann.evaluate(x_test, y_test)\n"
      ],
      "metadata": {
        "id": "JKUUYm8OO662"
      },
      "execution_count": null,
      "outputs": []
    },
    {
      "cell_type": "code",
      "execution_count": null,
      "metadata": {
        "id": "vc2I9Hpjo3FG"
      },
      "outputs": [],
      "source": [
        "ann_1=tf.keras.models.Sequential()\n",
        "ann_1.add(tf.keras.layers.Dense(units=128,activation='relu'))"
      ]
    },
    {
      "cell_type": "code",
      "execution_count": null,
      "metadata": {
        "id": "Ou8dteEk-gjL"
      },
      "outputs": [],
      "source": [
        "ann_1.add(tf.keras.layers.Dense(units=64,activation='relu'))"
      ]
    },
    {
      "cell_type": "code",
      "execution_count": null,
      "metadata": {
        "id": "KZ_6H0W0rRXo"
      },
      "outputs": [],
      "source": [
        "ann_1.add(tf.keras.layers.Dense(units=32,activation='relu'))"
      ]
    },
    {
      "cell_type": "code",
      "execution_count": null,
      "metadata": {
        "id": "swBbpzWvrUU3"
      },
      "outputs": [],
      "source": [
        "ann_1.add(tf.keras.layers.Dense(units=2,activation='softmax'))"
      ]
    },
    {
      "cell_type": "code",
      "execution_count": null,
      "metadata": {
        "id": "h_G_jc42reB4"
      },
      "outputs": [],
      "source": [
        "ann_1.compile(optimizer='adam',loss='categorical_crossentropy',metrics=['accuracy'])"
      ]
    },
    {
      "cell_type": "code",
      "execution_count": null,
      "metadata": {
        "id": "eSCFS_KyIAx8"
      },
      "outputs": [],
      "source": [
        "print(x_train1)"
      ]
    },
    {
      "cell_type": "code",
      "execution_count": null,
      "metadata": {
        "id": "BXk8P0vSIfSW"
      },
      "outputs": [],
      "source": [
        "print(y_train1)"
      ]
    },
    {
      "cell_type": "code",
      "execution_count": null,
      "metadata": {
        "id": "wV0789AirhOe"
      },
      "outputs": [],
      "source": [
        "ann_1.fit(x_train1,y_train1,batch_size=10,epochs=200)"
      ]
    },
    {
      "cell_type": "code",
      "execution_count": null,
      "metadata": {
        "id": "EaaX5faQr5Ll"
      },
      "outputs": [],
      "source": [
        "# Predict on test data\n",
        "y_pred = ann_1.predict(x_test1)\n",
        "predicted_classes = np.argmax(y_pred, axis=1)\n",
        "print(\"Predicted classes:\")\n",
        "print(predicted_classes)\n",
        "\n",
        "# Convert predicted classes to one-hot encoding using the number of classes (9)\n",
        "predicted_one_hot = np.eye(2)[predicted_classes]\n",
        "print(\"Predicted one-hot encoding:\")\n",
        "print(predicted_one_hot)\n",
        "\n",
        "# Access the fitted OneHotEncoder from your ColumnTransformer\n",
        "encoder = ct1.named_transformers_['encoder1']\n",
        "\n",
        "# Inverse transform the one-hot encoded predictions back to original labels\n",
        "original_predictions = encoder.inverse_transform(predicted_one_hot)\n",
        "print(\"Original labels from inverse transform:\")\n",
        "print(original_predictions)\n",
        "print(\"Original labels from  transform:\")\n",
        "original_predictions = encoder.inverse_transform(y_test1)\n",
        "print(original_predictions)\n"
      ]
    },
    {
      "cell_type": "code",
      "execution_count": null,
      "metadata": {
        "id": "Bx1IPS9BI7Hi"
      },
      "outputs": [],
      "source": [
        "import joblib\n",
        "joblib.dump(sc,'scaler_of_cooling.pkl')\n",
        "joblib.dump(sc1,'scaler_of_consumption.pkl')"
      ]
    },
    {
      "cell_type": "code",
      "execution_count": null,
      "metadata": {
        "id": "OtQw9t2cpQU1"
      },
      "outputs": [],
      "source": [
        "joblib.dump(ct,'one_of_cooling.pkl')\n",
        "joblib.dump(ct1,'one_of_consumption.pkl')"
      ]
    },
    {
      "cell_type": "code",
      "execution_count": null,
      "metadata": {
        "id": "Q-y02DIVlsTH"
      },
      "outputs": [],
      "source": [
        "ann.save('model_weights_of_cooling.h5')\n",
        "ann_1.save('model_weights1_of_consumption.h5')"
      ]
    },
    {
      "cell_type": "code",
      "execution_count": null,
      "metadata": {
        "id": "Ep-TWIJBJuKT"
      },
      "outputs": [],
      "source": [
        "joblib.dump(ct,'encoder.save')\n",
        "en=joblib.load('encoder.save')"
      ]
    },
    {
      "cell_type": "code",
      "execution_count": null,
      "metadata": {
        "id": "vKPK65HWKRgs"
      },
      "outputs": [],
      "source": [
        "tf.keras.models.load_model('model_weights_.h5')\n"
      ]
    },
    {
      "cell_type": "code",
      "execution_count": null,
      "metadata": {
        "id": "Q2TyfvdyOwQ0"
      },
      "outputs": [],
      "source": [
        "ann.save_weights('model_weights.weights.h5')\n",
        "ann_1.save_weights('model_weights1.weights.h5')"
      ]
    },
    {
      "cell_type": "code",
      "execution_count": null,
      "metadata": {
        "id": "vHUmbadRTpom"
      },
      "outputs": [],
      "source": [
        "# Save the entire model\n",
        "ann_1.save('my_model1.h5')\n",
        "\n",
        "# Load the entire model\n",
        "modeel = tf.keras.models.load_model('my_model1.h5')"
      ]
    },
    {
      "cell_type": "code",
      "execution_count": null,
      "metadata": {
        "id": "R6FKnq1gOUvg"
      },
      "outputs": [],
      "source": [
        "\n",
        "modeel=tf.keras.models.load_model('model_weights1.weights.h5')"
      ]
    },
    {
      "cell_type": "code",
      "execution_count": null,
      "metadata": {
        "id": "qWcZdhmmxplY"
      },
      "outputs": [],
      "source": [
        "!pip install h2o"
      ]
    },
    {
      "cell_type": "code",
      "execution_count": null,
      "metadata": {
        "id": "I7cTvNvoxx0f"
      },
      "outputs": [],
      "source": [
        "import h2o\n",
        "import pandas as pd\n",
        "from h2o.automl import H2OAutoML\n",
        "\n",
        "# Initialize H2O server\n",
        "h2o.init()\n",
        "\n",
        "# Step 2: Load fridge sensor data (temperature, power, etc.)\n",
        "# Replace with your actual dataset file\n",
        "df = pd.read_csv(\"/content/data_fridge_v3.csv\")\n",
        "\n",
        "# Convert Pandas DataFrame to H2OFrame\n",
        "data = h2o.H2OFrame(df)\n",
        "\n",
        "# Step 3: Define features and target variable\n",
        "target = \"anomaly\"  # This column should indicate issues (1 = issue, 0 = normal)\n",
        "features = data.columns.remove([target, \"timestamp\"])  # Remove timestamp from features\n",
        "\n",
        "# If \"anomaly\" column is missing, create one (Example: temp > 10°C is an anomaly)\n",
        "if target not in data.columns:\n",
        "    data[target] = (data[\"temperature\"] > 10).ifelse(1, 0)\n",
        "\n",
        "# Step 4: Train H2O AutoML (Auto selects best model)\n",
        "aml = H2OAutoML(max_models=10, seed=1)  # Adjust max_models for better accuracy\n",
        "aml.train(x=features, y=target, training_frame=data)\n",
        "\n",
        "# Step 5: Check the best model\n",
        "print(\"Leaderboard of Best Models:\")\n",
        "print(aml.leaderboard)\n",
        "\n",
        "# Step 6: Use the best model to predict fridge issues\n",
        "predictions = aml.leader.predict(data)\n",
        "\n",
        "# Show predictions (1 = issue, 0 = normal)\n",
        "print(\"Predictions on Sensor Data:\")\n",
        "print(predictions)"
      ]
    },
    {
      "cell_type": "code",
      "execution_count": null,
      "metadata": {
        "id": "bm_koeB06r6P"
      },
      "outputs": [],
      "source": [
        "!pip install h2o\n"
      ]
    },
    {
      "cell_type": "code",
      "execution_count": null,
      "metadata": {
        "id": "ih0zdJUIyftu"
      },
      "outputs": [],
      "source": [
        "import h2o\n",
        "import pandas as pd\n",
        "from h2o.automl import H2OAutoML\n",
        "\n",
        "# Initialize H2O\n",
        "h2o.init()\n",
        "\n",
        "# Load fridge sensor data\n",
        "df = pd.read_csv(\"/content/data_fridge_v3.csv\")\n",
        "\n",
        "# Convert to H2OFrame\n",
        "data = h2o.H2OFrame(df)\n",
        "\n",
        "# Define target column\n",
        "target = \"anomaly\"\n",
        "remove_cols = [target, \"timestamp\"]\n",
        "\n",
        "# Remove unnecessary columns safely\n",
        "features = [col for col in data.columns if col not in remove_cols]\n",
        "\n",
        "# Ensure 'anomaly' column exists (Create if missing)\n",
        "if \"temperature\" in data.columns and target not in data.columns:\n",
        "    data[target] = (data[\"temperature\"] > 10).ifelse(1, 0)\n",
        "\n",
        "# Convert target to categorical\n",
        "data[target] = data[target].asfactor()\n",
        "\n",
        "# Handle missing values (if any)\n",
        "data = data.dropna()\n",
        "\n",
        "# Train AutoML\n",
        "aml = H2OAutoML(max_models=10, seed=1)\n",
        "aml.train(x=features, y=target, training_frame=data)\n",
        "\n",
        "# Print leaderboard\n",
        "print(\"Leaderboard of Best Models:\")\n",
        "print(aml.leaderboard)\n",
        "\n",
        "# Predict anomalies\n",
        "predictions = aml.leader.predict(data)\n",
        "print(\"Predictions on Sensor Data:\")\n",
        "print(predictions)\n"
      ]
    },
    {
      "cell_type": "code",
      "execution_count": null,
      "metadata": {
        "id": "QCXwh0IiypzF"
      },
      "outputs": [],
      "source": [
        "import h2o\n",
        "from h2o.estimators import H2OIsolationForest\n",
        "import pandas as pd\n",
        "\n",
        "# Initialize H2O\n",
        "h2o.init()\n",
        "\n",
        "# Load dataset (replace with your own file)\n",
        "df = pd.read_csv(\"/content/data_fridge_v3.csv\")\n",
        "\n",
        "# Convert to H2O frame\n",
        "h2o_df = h2o.H2OFrame(df)\n",
        "\n",
        "# Train Isolation Forest\n",
        "model = H2OIsolationForest(ntrees=100, sample_size=256)\n",
        "model.train(training_frame=h2o_df)\n",
        "\n",
        "# Predict anomalies\n",
        "predictions = model.predict(h2o_df)\n",
        "df[\"anomaly_score\"] = predictions[\"mean_length\"]  # Lower score = more anomalous\n",
        "\n",
        "# Set threshold (e.g., 5% most anomalous points)\n",
        "threshold = df[\"anomaly_score\"].quantile(0.05)\n",
        "df[\"anomaly\"] = (df[\"anomaly_score\"] < threshold).astype(int)  # 1 = anomaly\n",
        "\n",
        "# Print detected anomalies\n",
        "print(\"Detected Anomalies:\")\n",
        "print(df[df[\"anomaly\"] == 1])\n"
      ]
    },
    {
      "cell_type": "code",
      "execution_count": null,
      "metadata": {
        "id": "7Fv10z6rcNNT"
      },
      "outputs": [],
      "source": [
        "!pip install pyod\n"
      ]
    },
    {
      "cell_type": "code",
      "execution_count": null,
      "metadata": {
        "id": "MjoEg5sdcQKa"
      },
      "outputs": [],
      "source": [
        "!pip install xgboost\n"
      ]
    },
    {
      "cell_type": "code",
      "execution_count": null,
      "metadata": {
        "id": "XeHDTfJKcUp2"
      },
      "outputs": [],
      "source": [
        "import numpy as np\n",
        "import matplotlib.pyplot as plt\n",
        "from pyod.models.xgbod import XGBOD\n",
        "from pyod.utils.data import generate_data\n",
        "from sklearn.metrics import classification_report\n",
        "\n",
        "# Generate synthetic data with known contamination (10% anomalies)\n",
        "X_train, X_test, y_train, y_test = generate_data(n_train=200, n_test=100, n_features=2,\n",
        "                                                  contamination=0.1, random_state=42)\n",
        "# Note: y_train and y_test are the true labels (0: normal, 1: anomaly)\n",
        "\n",
        "# Initialize XGBOD with supervised learning capability\n",
        "clf = XGBOD(contamination=0.1, random_state=42)\n",
        "\n",
        "# Fit model on training data with labels\n",
        "clf.fit(X_train, y_train)\n",
        "\n",
        "# Predict on test data (returns 1 for anomaly, 0 for normal)\n",
        "y_pred = clf.predict(X_test)\n",
        "\n",
        "# Print classification report to evaluate performance\n",
        "print(classification_report(y_test, y_pred))\n",
        "\n",
        "# Visualize the predictions\n",
        "plt.figure(figsize=(8, 6))\n",
        "plt.scatter(X_test[:, 0], X_test[:, 1], c=y_pred, cmap='coolwarm', label='Predicted Labels')\n",
        "plt.title(\"Supervised Anomaly Detection with XGBOD\")\n",
        "plt.xlabel(\"Feature 1\")\n",
        "plt.ylabel(\"Feature 2\")\n",
        "plt.legend()\n",
        "plt.show()\n"
      ]
    },
    {
      "cell_type": "code",
      "execution_count": null,
      "metadata": {
        "id": "Itq_AQh4eZO-"
      },
      "outputs": [],
      "source": [
        "# install with support for torch models\n",
        "!pip install \"gluonts[torch]\"\n",
        "\n",
        "# install with support for mxnet models\n",
        "!pip install \"gluonts[mxnet]\""
      ]
    },
    {
      "cell_type": "code",
      "execution_count": null,
      "metadata": {
        "id": "XM_YxVoMBo12"
      },
      "outputs": [],
      "source": [
        "import pandas as pd\n",
        "import numpy as np\n",
        "from xgboost import XGBClassifier\n",
        "from sklearn.model_selection import train_test_split\n",
        "from sklearn.metrics import classification_report\n",
        "\n",
        "# Load dataset (example: IoT sensor data with labeled anomalies)\n",
        "df = pd.read_csv(\"/content/data_fridge_v3.csv\")\n",
        "\n",
        "# Create lag features (to capture past trends)\n",
        "\n",
        "\n",
        "# Drop NaN values caused by shifting\n",
        "df = df.dropna()\n",
        "\n",
        "# Define features (X) and labels (y)\n",
        "X = df.iloc[:,:-3].values # Features: past values\n",
        "y = df.iloc[:,-1].values.reshape(-1,1)# Target: 0 = normal, 1 = anomaly\n",
        "from sklearn.compose import ColumnTransformer\n",
        "from sklearn.preprocessing import OneHotEncoder\n",
        "ct=ColumnTransformer(transformers=[('encoder',OneHotEncoder(sparse_output=False),[0])],remainder='passthrough')\n",
        "y=ct.fit_transform(y)\n",
        "# Split data into training & testing sets\n",
        "X_train, X_test, y_train, y_test = train_test_split(X, y, test_size=0.2, random_state=42)\n",
        "\n",
        "# Initialize XGBoost model\n",
        "model = XGBClassifier(n_estimators=100, max_depth=5, use_label_encoder=False, eval_metric=\"logloss\")\n",
        "\n",
        "# Train the model\n",
        "model.fit(X_train, y_train)\n",
        "\n",
        "# Predict on test data\n",
        "y_pred = model.predict(X_test)\n",
        "\n",
        "# Evaluate model performance\n",
        "print(classification_report(y_test, y_pred))\n"
      ]
    },
    {
      "cell_type": "code",
      "execution_count": null,
      "metadata": {
        "id": "iBfNahkfDF5x"
      },
      "outputs": [],
      "source": [
        "y_pred=model.predict([[30,30,1,15,15.5]] )"
      ]
    },
    {
      "cell_type": "code",
      "execution_count": null,
      "metadata": {
        "id": "cCyX24j4EKaA"
      },
      "outputs": [],
      "source": [
        "print(y_pred)"
      ]
    },
    {
      "cell_type": "code",
      "execution_count": null,
      "metadata": {
        "id": "F0Ll7vv9EeC0"
      },
      "outputs": [],
      "source": [
        "encoder=ct.named_transformers_['encoder']\n",
        "original=encoder.inverse_transform(y_pred)\n",
        "print(original)"
      ]
    },
    {
      "cell_type": "code",
      "execution_count": null,
      "metadata": {
        "id": "8mXUgBVrejdB"
      },
      "outputs": [],
      "source": [
        "import pandas as pd\n",
        "import matplotlib.pyplot as plt\n",
        "\n",
        "from gluonts.dataset.pandas import PandasDataset\n",
        "from gluonts.dataset.split import split\n",
        "from gluonts.torch import DeepAREstimator\n",
        "\n",
        "# Load data from a CSV file into a PandasDataset\n",
        "df = pd.read_csv(\n",
        "    \"/content/data_fridge_v3.csv\",\n",
        "    index_col=0,\n",
        "    parse_dates=True,\n",
        ")\n",
        "dataset = PandasDataset(df, target=\"#Passengers\")\n",
        "\n",
        "# Split the data for training and testing\n",
        "training_data, test_gen = split(dataset, offset=-36)\n",
        "test_data = test_gen.generate_instances(prediction_length=12, windows=3)\n",
        "\n",
        "# Train the model and make predictions\n",
        "model = DeepAREstimator(\n",
        "    prediction_length=12, freq=\"M\", trainer_kwargs={\"max_epochs\": 5}\n",
        ").train(training_data)\n",
        "\n",
        "forecasts = list(model.predict(test_data.input))\n",
        "\n",
        "# Plot predictions\n",
        "plt.plot(df[\"1954\":], color=\"black\")\n",
        "for forecast in forecasts:\n",
        "  forecast.plot()\n",
        "plt.legend([\"True values\"], loc=\"upper left\", fontsize=\"xx-large\")\n",
        "plt.show()"
      ]
    },
    {
      "cell_type": "code",
      "execution_count": null,
      "metadata": {
        "id": "js9mFJ97gH7Q"
      },
      "outputs": [],
      "source": [
        "!pip install --upgrade gluonts"
      ]
    },
    {
      "cell_type": "code",
      "execution_count": null,
      "metadata": {
        "id": "VJs86fpPgIsL"
      },
      "outputs": [],
      "source": [
        "!pip install --upgrade mxnet"
      ]
    },
    {
      "cell_type": "code",
      "execution_count": null,
      "metadata": {
        "id": "HEeWmPgHfPIQ"
      },
      "outputs": [],
      "source": [
        "!pip install --upgrade numpy\n",
        "!pip install --upgrade tensorboard\n",
        "!pip install --upgrade torch"
      ]
    },
    {
      "cell_type": "code",
      "execution_count": null,
      "metadata": {
        "id": "8WHz2gIufj1J"
      },
      "outputs": [],
      "source": [
        "df.head(100)\n"
      ]
    },
    {
      "cell_type": "code",
      "execution_count": null,
      "metadata": {
        "id": "8FINSKq6fmh3"
      },
      "outputs": [],
      "source": []
    },
    {
      "cell_type": "code",
      "execution_count": null,
      "metadata": {
        "id": "DxjeVznYi0HX"
      },
      "outputs": [],
      "source": [
        "!pip install pyod\n"
      ]
    },
    {
      "cell_type": "code",
      "execution_count": null,
      "metadata": {
        "id": "KLejyzLRjSIP"
      },
      "outputs": [],
      "source": [
        "import pandas as pd\n",
        "from pyod.models.iforest import IForest\n",
        "\n",
        "# Load dataset\n",
        "df = pd.read_csv(\"/content/v5_normal_data.csv\")\n",
        "\n",
        "# Select features for anomaly detection\n",
        "X = df.iloc[0:, :-3].values\n",
        "\n",
        "# Train Isolation Forest model\n",
        "model = IForest()\n",
        "model.fit(X)\n",
        "\n",
        "# Predict anomalies (1 = anomaly, 0 = normal)\n",
        "df['anomaly'] = model.predict(X)\n",
        "\n",
        "# Print detected anomalies\n",
        "print(\"Detected Anomalies:\")\n",
        "print(df[df['anomaly'] == 1])\n"
      ]
    },
    {
      "cell_type": "code",
      "execution_count": null,
      "metadata": {
        "id": "oai3ooDXl1On"
      },
      "outputs": [],
      "source": [
        "print(X)"
      ]
    },
    {
      "cell_type": "code",
      "execution_count": null,
      "metadata": {
        "id": "vasfvuVOl3kM"
      },
      "outputs": [],
      "source": [
        "import pandas as pd\n",
        "from pyod.models.knn import KNN  # KNN Model from PyOD\n",
        "\n",
        "# Load dataset (Assume 'sensor_data.csv' has Temperature, Pressure, Voltage)\n",
        "df = pd.read_csv(\"/content/v5_normal_data.csv\")\n",
        "\n",
        "# Select features for anomaly detection\n",
        "X = df.iloc[0:, :-3].values\n",
        "\n",
        "# Train KNN anomaly detector\n",
        "model = KNN(n_neighbors=5, method='mean', contamination=0.1)  # Uses mean distance of k-nearest neighbors\n",
        "model.fit(X)\n",
        "\n",
        "# Predict anomalies (1 = anomaly, 0 = normal)\n",
        "df['anomaly'] = model.predict(X)\n",
        "\n",
        "# Print detected anomalies\n",
        "print(\"Detected Anomalies:\")\n",
        "print(df[df['anomaly'] == 1])\n"
      ]
    },
    {
      "cell_type": "markdown",
      "metadata": {
        "id": "as49mtmRouXA"
      },
      "source": []
    },
    {
      "cell_type": "code",
      "execution_count": null,
      "metadata": {
        "id": "AZkHdReMrZ_h"
      },
      "outputs": [],
      "source": [
        "print(X)"
      ]
    },
    {
      "cell_type": "code",
      "execution_count": null,
      "metadata": {
        "id": "p9ujL6kZodFB"
      },
      "outputs": [],
      "source": [
        "df = pd.read_csv(\"/content/data_fridge_v2.csv\")\n",
        "X = df.iloc[0:, :-3].values\n",
        "a = model.predict([[1,3,29.5]])\n",
        "print(a)\n",
        "# Print detected anomalies\n",
        "print(\"Detected Anomalies:\")\n",
        "print(df[df['anomaly'] == 1])"
      ]
    },
    {
      "cell_type": "code",
      "execution_count": null,
      "metadata": {
        "id": "TM5WGoDTpbMs"
      },
      "outputs": [],
      "source": [
        "df.head(100)"
      ]
    },
    {
      "cell_type": "code",
      "execution_count": null,
      "metadata": {
        "id": "tl9K98Rgxibl"
      },
      "outputs": [],
      "source": [
        "import pandas as pd\n",
        "from pyod.models.lof import LOF  # Local Outlier Factor\n",
        "\n",
        "# Load dataset\n",
        "# Load dataset (Assume 'sensor_data.csv' has Temperature, Pressure, Voltage)\n",
        "df = pd.read_csv(\"/content/v5_normal_data.csv\")\n",
        "\n",
        "# Select features for anomaly detection\n",
        "X = df.iloc[0:, :-3].values\n",
        "\n",
        "# Train Unsupervised Model\n",
        "model = LOF()\n",
        "model.fit(X)\n",
        "\n",
        "# Predict anomalies\n",
        "df['anomaly'] = model.predict(X)  # 1 = anomaly, 0 = normal\n",
        "\n",
        "# Show detected anomalies\n",
        "print(df[df['anomaly'] == 1])\n"
      ]
    },
    {
      "cell_type": "code",
      "execution_count": null,
      "metadata": {
        "id": "dNVv6ot7QGnb"
      },
      "outputs": [],
      "source": [
        "df.head()\n"
      ]
    },
    {
      "cell_type": "code",
      "execution_count": null,
      "metadata": {
        "id": "zsD0g2_GQMIX"
      },
      "outputs": [],
      "source": [
        "import pandas as pd\n",
        "import numpy as np\n",
        "import matplotlib.pyplot as plt\n",
        "import seaborn as sns\n",
        "\n",
        "# Load example time-series data\n",
        "df = pd.read_csv(\"/content/v5_normal_data.csv\", parse_dates=[\"Minute\"], index_col=\"Minute\")\n",
        "\n",
        "# Select relevant time-series features\n",
        "features = [\"Freezer_Temp (°C)\", \"Fridge_Temp (°C)\"]  # Adjust based on your dataset\n",
        "df = df[features]\n",
        "\n",
        "# Compute cross-correlation matrix (TCC)\n",
        "correlation_matrix = df.corr()\n",
        "\n",
        "# Set anomaly threshold (e.g., drop in correlation beyond a limit)\n",
        "threshold = 0.5  # Adjust based on dataset\n",
        "\n",
        "# Detect anomalies: If any correlation drops below the threshold\n",
        "anomaly_flags = (correlation_matrix < threshold).sum(axis=1) > 0  # Boolean mask for anomalies\n",
        "df[\"anomaly\"] = anomaly_flags.astype(int)  # Convert to binary (1 = anomaly, 0 = normal)\n",
        "\n",
        "# Print correlation matrix\n",
        "print(\"Correlation Matrix:\")\n",
        "print(correlation_matrix)\n",
        "\n",
        "# Plot correlation heatmap\n",
        "plt.figure(figsize=(8, 6))\n",
        "sns.heatmap(correlation_matrix, annot=True, cmap=\"coolwarm\", linewidths=0.5)\n",
        "plt.title(\"Time-Series Cross-Correlation (TCC)\")\n",
        "plt.show()\n",
        "\n",
        "# Plot anomalies over time\n",
        "plt.figure(figsize=(12, 6))\n",
        "plt.plot(df.index, df[features], alpha=0.7, label=\"Sensor Values\")\n",
        "plt.scatter(df.index[df[\"anomaly\"] == 1], df[features].iloc[df[\"anomaly\"] == 1], color=\"red\", label=\"Anomaly\", marker=\"o\")\n",
        "plt.legend()\n",
        "plt.title(\"Anomaly Detection using TS-TCC\")\n",
        "plt.show()\n"
      ]
    },
    {
      "cell_type": "code",
      "execution_count": null,
      "metadata": {
        "id": "NTF-LzRAR3Qa"
      },
      "outputs": [],
      "source": [
        "df.head(100)"
      ]
    },
    {
      "cell_type": "code",
      "execution_count": null,
      "metadata": {
        "id": "0m4ZIwq5R6lu"
      },
      "outputs": [],
      "source": [
        "import pandas as pd\n",
        "import numpy as np\n",
        "import matplotlib.pyplot as plt\n",
        "import seaborn as sns\n",
        "\n",
        "# ------------------ TRAINING STAGE ------------------\n",
        "\n",
        "# Load and preprocess the training data\n",
        "train_df = pd.read_csv(\n",
        "    \"/content/v5_normal_data.csv\",\n",
        "    parse_dates=[\"Minute\"],  # Ensure timestamps are correctly parsed\n",
        "    date_format=\"%Y-%m-%d %H:%M:%S\",  # Explicit date format\n",
        "    index_col=\"Minute\"\n",
        ")\n",
        "\n",
        "features = [\"Freezer_Temp (°C)\", \"Fridge_Temp (°C)\"]\n",
        "train_df = train_df[features]\n",
        "\n",
        "# Handle missing values and duplicates\n",
        "train_df = train_df.ffill()\n",
        "train_df = train_df[~train_df.index.duplicated(keep=\"first\")]\n",
        "\n",
        "# Compute rolling correlation with a window (e.g., 10 timestamps)\n",
        "rolling_corr = train_df.rolling(window=30).corr().dropna()\n",
        "baseline_correlation = rolling_corr.groupby(level=1).mean()\n",
        "\n",
        "# Save the trained correlation matrix\n",
        "baseline_correlation.to_csv(\"trained_correlation_matrix.csv\")\n",
        "print(\"✅ Training completed. Correlation matrix saved!\")\n",
        "\n",
        "# ------------------ PREDICTION STAGE ------------------\n",
        "\n",
        "# Load test data with explicit date format\n",
        "test_df = pd.read_csv(\n",
        "    \"/content/data_fridge_v2.csv\",\n",
        "    parse_dates=[\"Minute\"],\n",
        "    date_format=\"%Y-%m-%d %H:%M:%S\",\n",
        "    index_col=\"Minute\"\n",
        ")\n",
        "\n",
        "test_df = test_df[features]\n",
        "\n",
        "# Handle missing values and duplicate timestamps\n",
        "test_df = test_df.ffill()\n",
        "test_df = test_df[~test_df.index.duplicated(keep=\"first\")]\n",
        "\n",
        "# Compute rolling correlation for test data\n",
        "rolling_corr_test = test_df.rolling(window=10).corr().dropna()\n",
        "test_correlation = rolling_corr_test.groupby(level=1).mean()\n",
        "\n",
        "# Load trained correlation matrix\n",
        "trained_correlation = pd.read_csv(\"trained_correlation_matrix.csv\", index_col=0)\n",
        "\n",
        "# Align index in case of mismatches\n",
        "test_correlation = test_correlation.reindex(trained_correlation.index, method=\"nearest\")\n",
        "\n",
        "# Compute deviation between trained and test correlation values\n",
        "deviation = abs(trained_correlation - test_correlation)\n",
        "print(deviation)\n",
        "# Set dynamic anomaly threshold\n",
        "mean_dev = deviation.mean().mean()\n",
        "std_dev = deviation.std().mean()\n",
        "threshold = mean_dev + 2 * std_dev\n",
        "\n",
        "# Flag correlation anomalies\n",
        "correlation_anomalies = deviation > threshold\n",
        "\n",
        "# Compute Z-score for sensor values\n",
        "z_scores = (test_df - test_df.mean()) / test_df.std()\n",
        "value_anomalies = abs(z_scores) > 2.5\n",
        "\n",
        "# Combine both anomaly detection methods\n",
        "test_df[\"anomaly\"] = correlation_anomalies.any(axis=1) | value_anomalies.any(axis=1)\n",
        "test_df[\"anomaly\"] = test_df[\"anomaly\"].astype(int)  # Convert to binary\n",
        "\n",
        "# Print detected anomalies\n",
        "print(\"\\n✅ Detected Anomalies:\")\n",
        "print(test_df[test_df[\"anomaly\"] == 1])\n",
        "\n",
        "# ------------------ VISUALIZATION ------------------\n",
        "\n",
        "# Plot detected anomalies\n",
        "plt.figure(figsize=(12, 6))\n",
        "plt.plot(test_df.index, test_df[\"Freezer_Temp (°C)\"], label=\"Freezer Temp\", alpha=0.7)\n",
        "plt.plot(test_df.index, test_df[\"Fridge_Temp (°C)\"], label=\"Fridge Temp\", alpha=0.7)\n",
        "\n",
        "# Highlight anomalies\n",
        "plt.scatter(\n",
        "    test_df.index[test_df[\"anomaly\"] == 1],\n",
        "    test_df[\"Freezer_Temp (°C)\"][test_df[\"anomaly\"] == 1],\n",
        "    color=\"red\", label=\"Anomaly - Freezer\", marker=\"x\", s=100\n",
        ")\n",
        "plt.scatter(\n",
        "    test_df.index[test_df[\"anomaly\"] == 1],\n",
        "    test_df[\"Fridge_Temp (°C)\"][test_df[\"anomaly\"] == 1],\n",
        "    color=\"orange\", label=\"Anomaly - Fridge\", marker=\"x\", s=100\n",
        ")\n",
        "\n",
        "plt.legend()\n",
        "plt.title(\"Anomaly Detection on New Data using TS-TCC & Z-Score\")\n",
        "plt.show()\n"
      ]
    },
    {
      "cell_type": "code",
      "execution_count": null,
      "metadata": {
        "id": "p2SAxltDXT7m"
      },
      "outputs": [],
      "source": [
        "# ... (previous code) ...\n",
        "\n",
        "# Reset the index of the test DataFrame before assigning 'anomaly' column:\n",
        "test_df = test_df.reset_index()\n",
        "\n",
        "# Combine both anomaly detection methods\n",
        "test_df[\"anomaly\"] = correlation_anomalies.values | value_anomalies.values  # Logical OR operation (1 = anomaly, 0 = normal)\n",
        "test_df[\"anomaly\"] = test_df[\"anomaly\"].astype(int)  # Convert to binary\n",
        "\n",
        "# ... (rest of the code) ..."
      ]
    },
    {
      "cell_type": "code",
      "execution_count": null,
      "metadata": {
        "id": "y35BMalvWcLA"
      },
      "outputs": [],
      "source": [
        "import pandas as pd\n",
        "import numpy as np\n",
        "import matplotlib.pyplot as plt\n",
        "import seaborn as sns\n",
        "\n",
        "# Load and preprocess the training data\n",
        "train_df = pd.read_csv(\"/content/v5_normal_data.csv\", parse_dates=[\"Minute\"], index_col=\"Minute\")\n",
        "features = [\"Freezer_Temp (°C)\", \"Fridge_Temp (°C)\"]  # Adjust based on your dataset\n",
        "train_df = train_df[features]\n",
        "\n",
        "# Compute baseline cross-correlation matrix (TCC) on training data\n",
        "baseline_correlation = train_df.corr()\n",
        "\n",
        "# Save the trained correlation matrix for future use\n",
        "baseline_correlation.to_csv(\"trained_correlation_matrix.csv\")\n",
        "print(\"Training completed. Correlation matrix saved!\")\n",
        "\n",
        "# ---------- PREDICTION STAGE ----------\n",
        "# Load new unseen test data\n",
        "test_df = pd.read_csv(\"/content/data_fridge_v2.csv\", parse_dates=[\"Minute\"], index_col=\"Minute\")\n",
        "test_df = test_df[features]\n",
        "\n",
        "# Compute correlation matrix on test data\n",
        "test_correlation = test_df.corr()\n",
        "\n",
        "# Load trained correlation matrix\n",
        "trained_correlation = pd.read_csv(\"trained_correlation_matrix.csv\", index_col=0)\n",
        "\n",
        "# Compute deviation between trained and test correlation values\n",
        "deviation = abs(trained_correlation - test_correlation)\n",
        "print(f\"this ={deviation}\")\n",
        "# Set an anomaly threshold (e.g., if correlation deviates too much)\n",
        "threshold =  0.3 # Adjust based on dataset\n",
        "anomaly_flags = (deviation < threshold).sum(axis=1) > 0  # Boolean mask for anomalies\n",
        "test_df[\"anomaly\"] = anomaly_flags.astype(int)  # Convert to binary (1 = anomaly, 0 = normal)\n",
        "\n",
        "# Print results\n",
        "print(\"Detected Anomalies:\")\n",
        "print(test_df[test_df[\"anomaly\"] == 1])\n",
        "\n",
        "# Plot correlation heatmap for test data\n",
        "plt.figure(figsize=(8, 6))\n",
        "sns.heatmap(test_correlation, annot=True, cmap=\"coolwarm\", linewidths=0.5)\n",
        "plt.title(\"Test Data - Time-Series Cross-Correlation (TCC)\")\n",
        "plt.show()\n",
        "\n",
        "# Plot detected anomalies\n",
        "plt.figure(figsize=(12, 6))\n",
        "plt.plot(test_df.index, test_df[features], alpha=0.7, label=\"Sensor Values\")\n",
        "# Use .loc instead of .iloc for label-based indexing\n",
        "plt.scatter(test_df.index[test_df[\"anomaly\"] == 1], test_df.loc[test_df[\"anomaly\"] == 1, features],\n",
        "            color=\"red\", label=\"Anomaly\", marker=\"o\")\n",
        "plt.legend()\n",
        "plt.title(\"Anomaly Detection on New Data using TS-TCC\")\n",
        "plt.show()"
      ]
    },
    {
      "cell_type": "code",
      "execution_count": null,
      "metadata": {
        "id": "ZpcuvEx2UGRM"
      },
      "outputs": [],
      "source": [
        "test_df.head(100)"
      ]
    },
    {
      "cell_type": "code",
      "execution_count": null,
      "metadata": {
        "id": "e0uhEOrTUM3R"
      },
      "outputs": [],
      "source": [
        "import numpy as np\n",
        "import pandas as pd\n",
        "import matplotlib.pyplot as plt\n",
        "import tensorflow as tf\n",
        "from tensorflow import keras\n",
        "from tensorflow.keras.models import Model\n",
        "from tensorflow.keras.layers import LSTM, Dense, RepeatVector, TimeDistributed\n",
        "from sklearn.preprocessing import MinMaxScaler\n"
      ]
    },
    {
      "cell_type": "code",
      "execution_count": null,
      "metadata": {
        "id": "v8bZucGZdEJ7"
      },
      "outputs": [],
      "source": [
        "# Load dataset (Assuming a CSV file with a 'Minute' column and sensor readings)\n",
        "df = pd.read_csv(\"/content/v5_normal_data.csv\", parse_dates=[\"Minute\"], index_col=\"Minute\")\n",
        "\n",
        "# Select feature columns\n",
        "features = [\"Freezer_Temp (°C)\", \"Fridge_Temp (°C)\"]\n",
        "data = df[features]\n",
        "\n",
        "# Normalize data (important for LSTM)\n",
        "scaler = MinMaxScaler()\n",
        "data_scaled = scaler.fit_transform(data)\n",
        "\n",
        "# Convert to sequences for LSTM (e.g., 30-time steps per sample)\n",
        "TIME_STEPS = 30\n",
        "\n",
        "def create_sequences(data, time_steps):\n",
        "    sequences = []\n",
        "    for i in range(len(data) - time_steps):\n",
        "        sequences.append(data[i: i + time_steps])\n",
        "    return np.array(sequences)\n",
        "\n",
        "X_train = create_sequences(data_scaled, TIME_STEPS)\n",
        "print(\"Training Data Shape:\", X_train.shape)  # (samples, time_steps, features)\n"
      ]
    },
    {
      "cell_type": "code",
      "execution_count": null,
      "metadata": {
        "id": "f0u0pFG0dLK-"
      },
      "outputs": [],
      "source": [
        "# Define model\n",
        "LATENT_DIM = 8  # Number of units in the bottleneck layer\n",
        "\n",
        "# Encoder\n",
        "inputs = keras.Input(shape=(TIME_STEPS, len(features)))\n",
        "encoded = LSTM(16, activation=\"relu\", return_sequences=True)(inputs)\n",
        "encoded = LSTM(LATENT_DIM, activation=\"relu\", return_sequences=False)(encoded)\n",
        "\n",
        "# Decoder\n",
        "decoded = RepeatVector(TIME_STEPS)(encoded)\n",
        "decoded = LSTM(16, activation=\"relu\", return_sequences=True)(decoded)\n",
        "decoded = LSTM(len(features), activation=\"linear\", return_sequences=True)(decoded)\n",
        "\n",
        "# Autoencoder Model\n",
        "autoencoder = Model(inputs, decoded)\n",
        "autoencoder.compile(optimizer=\"adam\", loss=\"mse\")\n",
        "autoencoder.summary()\n"
      ]
    },
    {
      "cell_type": "code",
      "execution_count": null,
      "metadata": {
        "id": "nNrEiKL4dSi8"
      },
      "outputs": [],
      "source": [
        "# Convert to sequences for LSTM (e.g., 30-time steps per sample)\n",
        "TIME_STEPS = 30  # Adjust if needed\n",
        "\n",
        "def create_sequences(data, time_steps):\n",
        "    sequences = []\n",
        "    for i in range(len(data) - time_steps + 1):  # Changed to +1 here\n",
        "        sequences.append(data[i: i + time_steps])\n",
        "    return np.array(sequences)\n",
        "\n",
        "X_train = create_sequences(data_scaled, TIME_STEPS)\n",
        "print(\"Training Data Shape:\", X_train.shape)  # (samples, time_steps, features)"
      ]
    },
    {
      "cell_type": "code",
      "execution_count": null,
      "metadata": {
        "id": "yJr9TjWDdfPy"
      },
      "outputs": [],
      "source": [
        "# Load test data\n",
        "test_df = pd.read_csv(\"/content/data_fridge_v2.csv\", parse_dates=[\"Minute\"], index_col=\"Minute\")\n",
        "test_data = test_df[features]\n",
        "\n",
        "# Normalize test data\n",
        "test_scaled = scaler.transform(test_data)\n",
        "X_test = create_sequences(test_scaled, TIME_STEPS)\n",
        "\n",
        "# Reconstruct using autoencoder\n",
        "X_test_pred = autoencoder.predict(X_test)\n",
        "\n",
        "# Compute reconstruction error (MSE per sample)\n",
        "reconstruction_error = np.mean(np.abs(X_test_pred - X_test), axis=(1, 2))\n",
        "\n",
        "# Set threshold based on training data\n",
        "threshold = np.percentile(reconstruction_error, 95)  # 95th percentile\n",
        "print(f\"Anomaly Threshold: {threshold}\")\n",
        "\n",
        "# Flag anomalies\n",
        "anomalies = reconstruction_error > threshold\n",
        "\n",
        "# Ensure the 'Anomaly' column exists before assigning to it\n",
        "test_df[\"Anomaly\"] = 0\n",
        "\n",
        "# Calculate the correct slice to avoid exceeding DataFrame bounds\n",
        "end_index = min(TIME_STEPS + len(anomalies), len(test_df))\n",
        "\n",
        "# Assign anomalies to the correct slice of the DataFrame\n",
        "test_df.iloc[TIME_STEPS:end_index, test_df.columns.get_loc(\"Anomaly\")] = anomalies[:end_index - TIME_STEPS].astype(int)\n",
        "\n",
        "\n",
        "# Print detected anomalies\n",
        "print(test_df[test_df[\"Anomaly\"] == 1])"
      ]
    },
    {
      "cell_type": "code",
      "execution_count": null,
      "metadata": {
        "id": "7FDjw8lTemsw"
      },
      "outputs": [],
      "source": [
        "test_df.head(250)"
      ]
    },
    {
      "cell_type": "code",
      "execution_count": null,
      "metadata": {
        "id": "mbq-EmeHCzyf"
      },
      "outputs": [],
      "source": [
        "!pip install gluonts\n",
        "!pip install mxnet\n",
        "!pip install numpy pandas matplotlib seaborn scikit-learn\n"
      ]
    },
    {
      "cell_type": "code",
      "execution_count": null,
      "metadata": {
        "id": "oikT_hZACdWo"
      },
      "outputs": [],
      "source": [
        "import pandas as pd\n",
        "import numpy as np\n",
        "import matplotlib.pyplot as plt\n",
        "import torch\n",
        "from gluonts.torch.model.deepar import DeepARModel\n",
        "from gluonts.dataset.common import ListDataset\n",
        "from gluonts.time_feature import time_features_from_frequency_str\n",
        "from gluonts.evaluation.backtest import make_evaluation_predictions\n",
        "from gluonts.evaluation import Evaluator\n",
        "\n",
        "# ------------------ Step 1: Load & Preprocess Data ------------------\n",
        "# Load dataset, ensuring 'Minute' is parsed as datetime\n",
        "df = pd.read_csv(\n",
        "    \"/content/data_fridge_v2.csv\",\n",
        "    parse_dates=[\"Minute\"],\n",
        "    index_col=\"Minute\",\n",
        ")\n",
        "\n",
        "# Select relevant features\n",
        "features = [\"Fridge_Temp (°C)\", \"Freezer_Temp (°C)\"]\n",
        "df = df[features]\n",
        "\n",
        "# Convert to float (if needed)\n",
        "df = df.astype(float)\n",
        "\n",
        "# Define time series frequency\n",
        "freq = \"1T\"  # Assuming 1-minute intervals\n",
        "\n",
        "# Ensure your index is a DatetimeIndex with the correct frequency\n",
        "df.index = pd.to_datetime(df.index, errors='coerce').to_period(freq).to_timestamp()\n",
        "\n",
        "\n",
        "# Create GluonTS dataset\n",
        "train_data = ListDataset(\n",
        "    [{\"start\": df.index[0], \"target\": df[features[0]].values}],\n",
        "    freq=freq,\n",
        ")\n",
        "\n",
        "# ------------------ Step 2: Train DeepAR Model ------------------\n",
        "# ... (rest of your code) ...\n",
        "\n",
        "# ------------------ Step 2: Train DeepAR Model ------------------\n",
        "# Define model parameters\n",
        "model = DeepARModel(\n",
        "    freq=freq,\n",
        "    prediction_length=30,  # How far ahead we predict\n",
        "    context_length=60,  # How much history to consider\n",
        "    num_layers=2,\n",
        "    hidden_size=40,\n",
        "    dropout_rate=0.1,\n",
        "    trainer_kwargs={\"epochs\": 20},\n",
        ")\n",
        "\n",
        "# Train model\n",
        "predictor = model.train(train_data)\n",
        "\n",
        "# ------------------ Step 3: Generate Forecasts ------------------\n",
        "forecast_it, ts_it = make_evaluation_predictions(\n",
        "    dataset=train_data, predictor=predictor, num_samples=100\n",
        ")\n",
        "\n",
        "# Convert iterator to lists\n",
        "forecasts = list(forecast_it)\n",
        "ts_list = list(ts_it)\n",
        "\n",
        "# Get predicted values\n",
        "forecast_mean = forecasts[0].mean\n",
        "forecast_index = df.index[-len(forecast_mean) :]\n",
        "\n",
        "# ------------------ Step 4: Detect Anomalies ------------------\n",
        "# Compute absolute error between actual and predicted values\n",
        "errors = np.abs(df[features[0]].iloc[-len(forecast_mean) :].values - forecast_mean)\n",
        "\n",
        "# Set anomaly threshold (e.g., 95th percentile of errors)\n",
        "threshold = np.percentile(errors, 95)\n",
        "print(f\"Anomaly Threshold: {threshold}\")\n",
        "\n",
        "# Flag anomalies\n",
        "anomalies = errors > threshold\n",
        "\n",
        "# Create DataFrame for visualization\n",
        "anomaly_df = pd.DataFrame({\"Actual\": df[features[0]].iloc[-len(forecast_mean) :].values,\n",
        "                           \"Predicted\": forecast_mean,\n",
        "                           \"Anomaly\": anomalies}, index=forecast_index)\n",
        "\n",
        "# ------------------ Step 5: Visualize Anomalies ------------------\n",
        "plt.figure(figsize=(12, 5))\n",
        "plt.plot(df[features[0]], label=\"Actual\", alpha=0.7)\n",
        "plt.plot(forecast_index, forecast_mean, label=\"Predicted\", linestyle=\"dashed\", color=\"orange\")\n",
        "plt.scatter(anomaly_df.index[anomaly_df[\"Anomaly\"]], anomaly_df[\"Actual\"][anomaly_df[\"Anomaly\"]],\n",
        "            color=\"red\", label=\"Anomalies\", marker=\"x\")\n",
        "plt.legend()\n",
        "plt.title(\"Anomaly Detection using DeepAR\")\n",
        "plt.show()\n"
      ]
    },
    {
      "cell_type": "code",
      "execution_count": null,
      "metadata": {
        "id": "GuPYADuNE038"
      },
      "outputs": [],
      "source": [
        "import pandas as pd\n",
        "import numpy as np\n",
        "import matplotlib.pyplot as plt\n",
        "import torch\n",
        "from gluonts.torch.model.deepar import DeepARModel\n",
        "from gluonts.dataset.common import ListDataset\n",
        "from gluonts.time_feature import time_features_from_frequency_str\n",
        "from gluonts.evaluation.backtest import make_evaluation_predictions\n",
        "from gluonts.evaluation import Evaluator\n",
        "from gluonts.torch.trainer import Trainer # import Trainer\n",
        "\n",
        "\n",
        "# ------------------ Step 1: Load & Preprocess Data ------------------\n",
        "# Load dataset, ensuring 'Minute' is parsed as datetime\n",
        "df = pd.read_csv(\n",
        "    \"/content/data_fridge_v2.csv\",\n",
        "    parse_dates=[\"Minute\"],\n",
        "    index_col=\"Minute\",\n",
        ")\n",
        "\n",
        "# Select relevant features\n",
        "features = [\"Fridge_Temp (°C)\", \"Freezer_Temp (°C)\"]\n",
        "df = df[features]\n",
        "\n",
        "# Convert to float (if needed)\n",
        "df = df.astype(float)\n",
        "\n",
        "# Define time series frequency\n",
        "freq = \"1T\"  # Assuming 1-minute intervals\n",
        "\n",
        "# Ensure your index is a DatetimeIndex with the correct frequency\n",
        "df.index = pd.to_datetime(df.index, errors='coerce').to_period(freq).to_timestamp()\n",
        "\n",
        "\n",
        "# Create GluonTS dataset\n",
        "train_data = ListDataset(\n",
        "    [{\"start\": df.index[0], \"target\": df[features[0]].values}],\n",
        "    freq=freq,\n",
        ")\n",
        "\n",
        "# ------------------ Step 2: Train DeepAR Model ------------------\n",
        "# Define model parameters\n",
        "model = DeepARModel(\n",
        "    freq=freq,\n",
        "    prediction_length=30,  # How far ahead we predict\n",
        "    context_length=60,  # How much history to consider\n",
        "    num_layers=2,\n",
        "    hidden_size=40,\n",
        "    dropout_rate=0.1,\n",
        "\n",
        ")\n",
        "\n",
        "# Define Trainer object with desired parameters\n",
        "trainer = Trainer(epochs=20) # Define a Trainer object\n",
        "\n",
        "# Train model using the Trainer object\n",
        "predictor = model.train(train_data, trainer=trainer) # pass Trainer to the train method\n",
        "\n",
        "\n",
        "# ------------------ Step 3: Generate Forecasts ------------------\n",
        "forecast_it, ts_it = make_evaluation_predictions(\n",
        "    dataset=train_data, predictor=predictor, num_samples=100\n",
        ")\n",
        "\n",
        "# Convert iterator to lists\n",
        "forecasts = list(forecast_it)\n",
        "ts_list = list(ts_it)\n",
        "\n",
        "# Get predicted values\n",
        "forecast_mean = forecasts[0].mean\n",
        "forecast_index = df.index[-len(forecast_mean) :]\n",
        "\n",
        "# ------------------ Step 4: Detect Anomalies ------------------\n",
        "# Compute absolute error between actual and predicted values\n",
        "errors = np.abs(df[features[0]].iloc[-len(forecast_mean) :].values - forecast_mean)\n",
        "\n",
        "# Set anomaly threshold (e.g., 95th percentile of errors)\n",
        "threshold = np.percentile(errors, 95)\n",
        "print(f\"Anomaly Threshold: {threshold}\")\n",
        "\n",
        "# Flag anomalies\n",
        "anomalies = errors > threshold\n",
        "\n",
        "# Create DataFrame for visualization\n",
        "anomaly_df = pd.DataFrame({\"Actual\": df[features[0]].iloc[-len(forecast_mean) :].values,\n",
        "                           \"Predicted\": forecast_mean,\n",
        "                           \"Anomaly\": anomalies}, index=forecast_index)\n",
        "\n",
        "# ------------------ Step 5: Visualize Anomalies ------------------\n",
        "plt.figure(figsize=(12, 5))\n",
        "plt.plot(df[features[0]], label=\"Actual\", alpha=0.7)\n",
        "plt.plot(forecast_index, forecast_mean, label=\"Predicted\", linestyle=\"dashed\", color=\"orange\")\n",
        "plt.scatter(anomaly_df.index[anomaly_df[\"Anomaly\"]], anomaly_df[\"Actual\"][anomaly_df[\"Anomaly\"]],\n",
        "            color=\"red\", label=\"Anomalies\", marker=\"x\")\n",
        "plt.legend()\n",
        "plt.title(\"Anomaly Detection using DeepAR\")\n",
        "plt.show()"
      ]
    },
    {
      "cell_type": "code",
      "execution_count": null,
      "metadata": {
        "id": "2sL638YpDrsR"
      },
      "outputs": [],
      "source": [
        "!pip install --upgrade gluonts"
      ]
    },
    {
      "cell_type": "code",
      "execution_count": null,
      "metadata": {
        "id": "XwUd_xXTDGyz"
      },
      "outputs": [],
      "source": [
        "!pip install lightning"
      ]
    }
  ],
  "metadata": {
    "accelerator": "GPU",
    "colab": {
      "gpuType": "T4",
      "provenance": [],
      "authorship_tag": "ABX9TyPBHiw3fVzdxvPJtmGZTdyV",
      "include_colab_link": true
    },
    "kernelspec": {
      "display_name": "Python 3",
      "name": "python3"
    },
    "language_info": {
      "name": "python"
    }
  },
  "nbformat": 4,
  "nbformat_minor": 0
}